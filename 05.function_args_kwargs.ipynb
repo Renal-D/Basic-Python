{
 "cells": [
  {
   "cell_type": "markdown",
   "id": "ba5ee2cc-24f0-40a5-a5ea-0ac902743b8c",
   "metadata": {},
   "source": [
    "## FUNCTION\n",
    "def nama_fungsi(variabel):\n",
    "'''\n",
    "docstring = sebuah komentar untuk pembaca\n",
    "'''\n",
    "    **perintah yang diinginkan** _#untuk mendefinisikan hasil fungsi ke variabel_\n",
    "    **return/print**             _#untuk mencetak hasil_"
   ]
  },
  {
   "cell_type": "code",
   "execution_count": 1,
   "id": "3f6c6560-0f5e-48e5-baaa-9c4da25503fb",
   "metadata": {},
   "outputs": [
    {
     "data": {
      "text/plain": [
       "10"
      ]
     },
     "execution_count": 1,
     "metadata": {},
     "output_type": "execute_result"
    }
   ],
   "source": [
    "5+5"
   ]
  },
  {
   "cell_type": "code",
   "execution_count": 2,
   "id": "dffb4f94-c6dd-4c3f-8f94-1bc5164cce4b",
   "metadata": {},
   "outputs": [
    {
     "data": {
      "text/plain": [
       "81"
      ]
     },
     "execution_count": 2,
     "metadata": {},
     "output_type": "execute_result"
    }
   ],
   "source": [
    "9*9"
   ]
  },
  {
   "cell_type": "code",
   "execution_count": 3,
   "id": "be27b4ec-0a94-41d6-a589-18f01e1176a0",
   "metadata": {},
   "outputs": [
    {
     "data": {
      "text/plain": [
       "0.9"
      ]
     },
     "execution_count": 3,
     "metadata": {},
     "output_type": "execute_result"
    }
   ],
   "source": [
    "9/10"
   ]
  },
  {
   "cell_type": "code",
   "execution_count": 7,
   "id": "d75cfd54-8508-4a33-ab22-93d2e348dbd9",
   "metadata": {},
   "outputs": [],
   "source": [
    "def kalimat_contoh():\n",
    "    print('Python itu Seru!!!')"
   ]
  },
  {
   "cell_type": "code",
   "execution_count": 8,
   "id": "ef4c2644-ec65-4863-9a7e-efb25fc1d0f4",
   "metadata": {},
   "outputs": [
    {
     "data": {
      "text/plain": [
       "<function __main__.kalimat_contoh()>"
      ]
     },
     "execution_count": 8,
     "metadata": {},
     "output_type": "execute_result"
    }
   ],
   "source": [
    "kalimat_contoh"
   ]
  },
  {
   "cell_type": "code",
   "execution_count": 9,
   "id": "a4024af0-723b-45f6-af68-24ecad42a7db",
   "metadata": {},
   "outputs": [
    {
     "name": "stdout",
     "output_type": "stream",
     "text": [
      "Python itu Seru!!!\n"
     ]
    }
   ],
   "source": [
    "kalimat_contoh()"
   ]
  },
  {
   "cell_type": "code",
   "execution_count": 12,
   "id": "1b03f21d-19ad-4285-a507-960ec91dfb1f",
   "metadata": {},
   "outputs": [],
   "source": [
    "def penjumlahan(ang1,ang2):\n",
    "    return ang1+ang2"
   ]
  },
  {
   "cell_type": "code",
   "execution_count": 29,
   "id": "d21e364d-7c3f-4f81-8d64-bdcb8c3dafc2",
   "metadata": {},
   "outputs": [],
   "source": [
    "total = penjumlahan(5,5)"
   ]
  },
  {
   "cell_type": "code",
   "execution_count": 30,
   "id": "cb1b22ae-a1ae-4397-8b44-ebaeb538c6f3",
   "metadata": {},
   "outputs": [
    {
     "data": {
      "text/plain": [
       "10"
      ]
     },
     "execution_count": 30,
     "metadata": {},
     "output_type": "execute_result"
    }
   ],
   "source": [
    "total"
   ]
  },
  {
   "cell_type": "code",
   "execution_count": 31,
   "id": "37de130a-2565-48d5-a1f0-63eafb230a24",
   "metadata": {},
   "outputs": [
    {
     "data": {
      "text/plain": [
       "int"
      ]
     },
     "execution_count": 31,
     "metadata": {},
     "output_type": "execute_result"
    }
   ],
   "source": [
    "type(total)"
   ]
  },
  {
   "cell_type": "code",
   "execution_count": 32,
   "id": "944d302e-3a1d-4d25-a358-7296d376021c",
   "metadata": {},
   "outputs": [],
   "source": [
    "def perkalian(angk1, angk2):\n",
    "    print(angk1*angk2)"
   ]
  },
  {
   "cell_type": "code",
   "execution_count": 33,
   "id": "d1d5933d-74d6-4a1d-b826-9ad0908873d0",
   "metadata": {},
   "outputs": [
    {
     "name": "stdout",
     "output_type": "stream",
     "text": [
      "9\n"
     ]
    }
   ],
   "source": [
    "kali = perkalian(3,3)"
   ]
  },
  {
   "cell_type": "code",
   "execution_count": 35,
   "id": "7ed5fd87-4c71-422b-909d-0ef0ffad20e0",
   "metadata": {},
   "outputs": [
    {
     "data": {
      "text/plain": [
       "NoneType"
      ]
     },
     "execution_count": 35,
     "metadata": {},
     "output_type": "execute_result"
    }
   ],
   "source": [
    "type(kali)"
   ]
  },
  {
   "cell_type": "code",
   "execution_count": 48,
   "id": "caacbe20-0c84-4d1b-b452-8169cf771f2f",
   "metadata": {},
   "outputs": [],
   "source": [
    "def belajar(var='Python'):\n",
    "    print(var + ' itu GAMPANG!!')"
   ]
  },
  {
   "cell_type": "code",
   "execution_count": 49,
   "id": "5ee45b49-b1dd-4e9a-ac9a-d26be560d8e1",
   "metadata": {},
   "outputs": [
    {
     "name": "stdout",
     "output_type": "stream",
     "text": [
      "Python itu GAMPANG!!\n"
     ]
    }
   ],
   "source": [
    "belajar()"
   ]
  },
  {
   "cell_type": "code",
   "execution_count": 50,
   "id": "8a0ecaf5-36b2-403d-8d71-8243149216ca",
   "metadata": {},
   "outputs": [
    {
     "name": "stdout",
     "output_type": "stream",
     "text": [
      "Statistika itu GAMPANG!!\n"
     ]
    }
   ],
   "source": [
    "belajar('Statistika')"
   ]
  },
  {
   "cell_type": "code",
   "execution_count": 51,
   "id": "707194b4-9d9f-4edf-97ab-49ed44689e05",
   "metadata": {},
   "outputs": [],
   "source": [
    "def ganjil_genap(var1):\n",
    "    '''\n",
    "    ini program untuk membedakan ganjil dan genap\n",
    "    '''\n",
    "    if var1%2 == 0:\n",
    "        print('ini adalah bilangan genap')\n",
    "    else:\n",
    "        print('ini adalah bilangan ganjil')"
   ]
  },
  {
   "cell_type": "code",
   "execution_count": 52,
   "id": "c888bc1a-76c0-4acc-a664-9f6983829970",
   "metadata": {},
   "outputs": [
    {
     "name": "stdout",
     "output_type": "stream",
     "text": [
      "ini adalah bilangan ganjil\n"
     ]
    }
   ],
   "source": [
    "ganjil_genap(5)"
   ]
  },
  {
   "cell_type": "code",
   "execution_count": 53,
   "id": "9a2ce03d-a2dc-4116-a207-9a6f926cc483",
   "metadata": {},
   "outputs": [
    {
     "name": "stdout",
     "output_type": "stream",
     "text": [
      "ini adalah bilangan genap\n"
     ]
    }
   ],
   "source": [
    "ganjil_genap(10)"
   ]
  },
  {
   "cell_type": "markdown",
   "id": "30707f07-2ebb-4b7e-b955-8eb6ec07a7fc",
   "metadata": {},
   "source": [
    "### Tantangan Fungsi"
   ]
  },
  {
   "cell_type": "markdown",
   "id": "d14292cf-9cba-4f00-a911-8c3ff4ab1778",
   "metadata": {},
   "source": [
    "Buatlah sebuah fungsi yang bisa memberikan nilai True jika menemukan kata 'Python'\n"
   ]
  },
  {
   "cell_type": "markdown",
   "id": "56e2ee75-e4ed-49de-a119-d55693c5a7b0",
   "metadata": {},
   "source": [
    "Contoh : \"Belajar Python itu mudah\" _/kata bisa diganti_"
   ]
  },
  {
   "cell_type": "code",
   "execution_count": 90,
   "id": "3a3f17fe-b6b5-4010-97ec-c524eaf1ff72",
   "metadata": {},
   "outputs": [
    {
     "name": "stdin",
     "output_type": "stream",
     "text": [
      "kata python\n"
     ]
    },
    {
     "data": {
      "text/plain": [
       "'python'"
      ]
     },
     "execution_count": 90,
     "metadata": {},
     "output_type": "execute_result"
    }
   ],
   "source": [
    "def deteksi_kata(kalimat):\n",
    "    return 'Python'.lower() in kalimat\n",
    "\n",
    "contoh = input('kata')\n",
    "contoh"
   ]
  },
  {
   "cell_type": "code",
   "execution_count": 91,
   "id": "68f47622-088e-4284-a488-a1018d7df35e",
   "metadata": {},
   "outputs": [
    {
     "data": {
      "text/plain": [
       "True"
      ]
     },
     "execution_count": 91,
     "metadata": {},
     "output_type": "execute_result"
    }
   ],
   "source": [
    "cek = deteksi_kata(contoh)\n",
    "cek"
   ]
  },
  {
   "cell_type": "markdown",
   "id": "d99906a1-3946-455c-84e9-5925c5bc42db",
   "metadata": {},
   "source": [
    "## *Args dan **Kwarg\n",
    "args = arguments\n",
    "kwarg = keyword arguments"
   ]
  },
  {
   "cell_type": "code",
   "execution_count": 107,
   "id": "4bb2d28d-3f95-465a-a470-2332b6b0c371",
   "metadata": {},
   "outputs": [],
   "source": [
    "def jumlah(*args):\n",
    "    return sum((args))"
   ]
  },
  {
   "cell_type": "code",
   "execution_count": 108,
   "id": "f749c34a-7814-4426-b8a8-d1b85861c839",
   "metadata": {},
   "outputs": [
    {
     "data": {
      "text/plain": [
       "27"
      ]
     },
     "execution_count": 108,
     "metadata": {},
     "output_type": "execute_result"
    }
   ],
   "source": [
    "jumlah(2,6, 9, 10)"
   ]
  },
  {
   "cell_type": "code",
   "execution_count": 110,
   "id": "c146bfd4-f40e-4da6-9675-b0a4eaca661c",
   "metadata": {},
   "outputs": [],
   "source": [
    "def cek_args(*args):\n",
    "    print(args)"
   ]
  },
  {
   "cell_type": "code",
   "execution_count": 112,
   "id": "6a5f5238-b819-43fd-9fbe-c716167b3957",
   "metadata": {},
   "outputs": [
    {
     "name": "stdout",
     "output_type": "stream",
     "text": [
      "(1, 2, 3, 4, 5, 6, 7, 8)\n"
     ]
    }
   ],
   "source": [
    "cek_args(1,2,3,4,5,6,7,8)"
   ]
  },
  {
   "cell_type": "code",
   "execution_count": 113,
   "id": "0b360fb9-f337-41df-a401-82f52df79277",
   "metadata": {},
   "outputs": [
    {
     "ename": "TypeError",
     "evalue": "sum() takes at most 2 arguments (8 given)",
     "output_type": "error",
     "traceback": [
      "\u001b[1;31m---------------------------------------------------------------------------\u001b[0m",
      "\u001b[1;31mTypeError\u001b[0m                                 Traceback (most recent call last)",
      "Cell \u001b[1;32mIn[113], line 1\u001b[0m\n\u001b[1;32m----> 1\u001b[0m \u001b[38;5;28;43msum\u001b[39;49m\u001b[43m(\u001b[49m\u001b[38;5;241;43m1\u001b[39;49m\u001b[43m,\u001b[49m\u001b[43m \u001b[49m\u001b[38;5;241;43m2\u001b[39;49m\u001b[43m,\u001b[49m\u001b[43m \u001b[49m\u001b[38;5;241;43m3\u001b[39;49m\u001b[43m,\u001b[49m\u001b[43m \u001b[49m\u001b[38;5;241;43m4\u001b[39;49m\u001b[43m,\u001b[49m\u001b[43m \u001b[49m\u001b[38;5;241;43m5\u001b[39;49m\u001b[43m,\u001b[49m\u001b[43m \u001b[49m\u001b[38;5;241;43m6\u001b[39;49m\u001b[43m,\u001b[49m\u001b[43m \u001b[49m\u001b[38;5;241;43m7\u001b[39;49m\u001b[43m,\u001b[49m\u001b[43m \u001b[49m\u001b[38;5;241;43m8\u001b[39;49m\u001b[43m)\u001b[49m\n",
      "\u001b[1;31mTypeError\u001b[0m: sum() takes at most 2 arguments (8 given)"
     ]
    }
   ],
   "source": [
    "sum(1, 2, 3, 4, 5, 6, 7, 8)"
   ]
  },
  {
   "cell_type": "code",
   "execution_count": 115,
   "id": "f55e35d7-aac9-4686-a07b-ab08da2a7865",
   "metadata": {},
   "outputs": [
    {
     "data": {
      "text/plain": [
       "36"
      ]
     },
     "execution_count": 115,
     "metadata": {},
     "output_type": "execute_result"
    }
   ],
   "source": [
    "sum([1, 2, 3, 4, 5, 6, 7, 8])"
   ]
  },
  {
   "cell_type": "code",
   "execution_count": 116,
   "id": "9bee21f6-a2fa-4341-bc05-b6026618c0fd",
   "metadata": {},
   "outputs": [],
   "source": [
    "def cek_kwargs(**kwargs):\n",
    "    print(kwargs)"
   ]
  },
  {
   "cell_type": "code",
   "execution_count": 120,
   "id": "976b7089-2abd-4052-aed8-496726755130",
   "metadata": {},
   "outputs": [
    {
     "name": "stdout",
     "output_type": "stream",
     "text": [
      "{'nama': 'serra', 'umur': '22', 'kelas': 'c'}\n"
     ]
    }
   ],
   "source": [
    "cek_kwargs(nama= 'serra', umur='22', kelas='c')"
   ]
  },
  {
   "cell_type": "code",
   "execution_count": 125,
   "id": "26b0214e-137c-4bc1-a295-073bd2e07459",
   "metadata": {},
   "outputs": [],
   "source": [
    "def nick_name(**kwarg):\n",
    "    if 'Serra' in kwarg:\n",
    "        print('Serra memilih nickname {} untuk gamenya'.format(kwarg['Serra']))\n",
    "    else:\n",
    "        print('Bukan akun Serra')"
   ]
  },
  {
   "cell_type": "code",
   "execution_count": 128,
   "id": "19ae06b1-e397-4d07-b5da-aad83fb8f3f9",
   "metadata": {},
   "outputs": [
    {
     "name": "stdout",
     "output_type": "stream",
     "text": [
      "Serra memilih nickname Udin untuk gamenya\n"
     ]
    }
   ],
   "source": [
    "nick_name(Serra = 'Udin', Joko = 'Modo')"
   ]
  },
  {
   "cell_type": "markdown",
   "id": "364efa18-dcfe-4450-b4e5-6359e74c9c2a",
   "metadata": {},
   "source": [
    "### Menggabungkan *Args dan *Kwarg"
   ]
  },
  {
   "cell_type": "code",
   "execution_count": 133,
   "id": "9aa4961a-8ed2-474b-b26f-1ef3c00891b0",
   "metadata": {},
   "outputs": [],
   "source": [
    "def hero(*args,**kwargs):\n",
    "    print('DM saya {} ingin saya belikan skin {}'.format(args[0], kwargs['Layla']))"
   ]
  },
  {
   "cell_type": "code",
   "execution_count": 134,
   "id": "47c7b88e-d612-40ce-ab4e-d0b8a77bae4f",
   "metadata": {},
   "outputs": [
    {
     "name": "stdout",
     "output_type": "stream",
     "text": [
      "DM saya 30 ingin saya belikan skin Blue Spectre\n"
     ]
    }
   ],
   "source": [
    "hero(30,15,10, Layla = 'Blue Spectre', Kagura ='Summer Paradise')"
   ]
  },
  {
   "cell_type": "code",
   "execution_count": null,
   "id": "f8dff6ad-f30a-4d1e-a1c0-4efc7c6ccdf5",
   "metadata": {},
   "outputs": [],
   "source": []
  }
 ],
 "metadata": {
  "kernelspec": {
   "display_name": "Python 3 (ipykernel)",
   "language": "python",
   "name": "python3"
  },
  "language_info": {
   "codemirror_mode": {
    "name": "ipython",
    "version": 3
   },
   "file_extension": ".py",
   "mimetype": "text/x-python",
   "name": "python",
   "nbconvert_exporter": "python",
   "pygments_lexer": "ipython3",
   "version": "3.12.0"
  }
 },
 "nbformat": 4,
 "nbformat_minor": 5
}
