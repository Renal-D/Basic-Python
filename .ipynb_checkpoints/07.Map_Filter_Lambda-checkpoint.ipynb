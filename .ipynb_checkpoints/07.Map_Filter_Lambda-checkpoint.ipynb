{
 "cells": [
  {
   "cell_type": "markdown",
   "id": "314c379f-bc8d-47e3-a25d-d4437af4b3dd",
   "metadata": {},
   "source": [
    "### MAP"
   ]
  },
  {
   "cell_type": "code",
   "execution_count": 8,
   "id": "81c8fd0d-c961-442f-ae12-5f3fd1ad8ae9",
   "metadata": {},
   "outputs": [],
   "source": [
    "def kali(num):\n",
    "    return num*10"
   ]
  },
  {
   "cell_type": "code",
   "execution_count": 9,
   "id": "6bee1503-383b-4e3b-b199-81d96342c0d7",
   "metadata": {},
   "outputs": [
    {
     "data": {
      "text/plain": [
       "90"
      ]
     },
     "execution_count": 9,
     "metadata": {},
     "output_type": "execute_result"
    }
   ],
   "source": [
    "kali(9)"
   ]
  },
  {
   "cell_type": "code",
   "execution_count": 11,
   "id": "587d94ff-00aa-47e7-9ea8-d699ad8d9d4a",
   "metadata": {},
   "outputs": [],
   "source": [
    "angka = [2,4,6,8]"
   ]
  },
  {
   "cell_type": "code",
   "execution_count": 12,
   "id": "8773bf7f-b993-4647-b869-441c5e6a6df4",
   "metadata": {},
   "outputs": [
    {
     "name": "stdout",
     "output_type": "stream",
     "text": [
      "20\n",
      "40\n",
      "60\n",
      "80\n"
     ]
    }
   ],
   "source": [
    "for coba in map(kali, angka):\n",
    "    print(coba)"
   ]
  },
  {
   "cell_type": "code",
   "execution_count": 15,
   "id": "916d4c29-b2de-4112-a22c-d7309a450322",
   "metadata": {},
   "outputs": [
    {
     "data": {
      "text/plain": [
       "[20, 40, 60, 80]"
      ]
     },
     "execution_count": 15,
     "metadata": {},
     "output_type": "execute_result"
    }
   ],
   "source": [
    "hasil= list(map(kali, angka))\n",
    "hasil"
   ]
  },
  {
   "cell_type": "code",
   "execution_count": 16,
   "id": "5726347d-1ed4-4174-8c71-722b0de6e076",
   "metadata": {},
   "outputs": [],
   "source": [
    "tupang = (11,22,33)"
   ]
  },
  {
   "cell_type": "code",
   "execution_count": 17,
   "id": "af543f61-f5f3-4cb8-8efe-39f05aa98b6e",
   "metadata": {},
   "outputs": [
    {
     "name": "stdout",
     "output_type": "stream",
     "text": [
      "110\n",
      "220\n",
      "330\n"
     ]
    }
   ],
   "source": [
    "for hitung in map(kali, tupang):\n",
    "    print(hitung)"
   ]
  },
  {
   "cell_type": "code",
   "execution_count": 20,
   "id": "55452864-8d25-4f22-8f01-30afffa0c4e3",
   "metadata": {},
   "outputs": [
    {
     "data": {
      "text/plain": [
       "(20, 40, 60, 80)"
      ]
     },
     "execution_count": 20,
     "metadata": {},
     "output_type": "execute_result"
    }
   ],
   "source": [
    "hasil2= tuple(map(kali,angka))\n",
    "hasil2"
   ]
  },
  {
   "cell_type": "code",
   "execution_count": 28,
   "id": "109d4047-2fa6-4f13-a943-763e9018bacb",
   "metadata": {},
   "outputs": [],
   "source": [
    "def jumlahKata(kata):\n",
    "    if len(kata)%2 == 0:\n",
    "        return \"GENAP CK\"\n",
    "    else:\n",
    "        return \"GANJIL SYG\""
   ]
  },
  {
   "cell_type": "code",
   "execution_count": 31,
   "id": "f500187a-7884-4ddc-9d6c-9c5c3186c6bb",
   "metadata": {},
   "outputs": [
    {
     "data": {
      "text/plain": [
       "'GANJIL SYG'"
      ]
     },
     "execution_count": 31,
     "metadata": {},
     "output_type": "execute_result"
    }
   ],
   "source": [
    "jumlahKata('renaldi dwi saputra')"
   ]
  },
  {
   "cell_type": "code",
   "execution_count": 32,
   "id": "a9faf7b8-a07a-4556-b1ce-67ee8272392c",
   "metadata": {},
   "outputs": [],
   "source": [
    "listKata = ['Serra', 'Abimanyu', 'Ryota']"
   ]
  },
  {
   "cell_type": "code",
   "execution_count": 40,
   "id": "716a92b8-784e-4ebe-9feb-707acd720e51",
   "metadata": {},
   "outputs": [
    {
     "data": {
      "text/plain": [
       "['GANJIL SYG', 'GENAP CK', 'GANJIL SYG']"
      ]
     },
     "execution_count": 40,
     "metadata": {},
     "output_type": "execute_result"
    }
   ],
   "source": [
    "hitungKata = list(map(jumlahKata, listKata))\n",
    "hitungKata"
   ]
  },
  {
   "cell_type": "markdown",
   "id": "2c008688-b5fd-4acf-a75a-4034e715536e",
   "metadata": {},
   "source": [
    "### FILTER"
   ]
  },
  {
   "cell_type": "code",
   "execution_count": 45,
   "id": "9c11bef3-8289-4583-9093-eeecf5e2e476",
   "metadata": {},
   "outputs": [],
   "source": [
    "def cekgenap(num):\n",
    "    return num%2 == 0"
   ]
  },
  {
   "cell_type": "code",
   "execution_count": 46,
   "id": "88414d5a-57cb-4b96-8fe7-2c362b7a83ca",
   "metadata": {},
   "outputs": [
    {
     "data": {
      "text/plain": [
       "False"
      ]
     },
     "execution_count": 46,
     "metadata": {},
     "output_type": "execute_result"
    }
   ],
   "source": [
    "cekgenap(11)"
   ]
  },
  {
   "cell_type": "code",
   "execution_count": 50,
   "id": "adebb81f-b7e2-4ae8-b0cd-1f5ec9b2d7b4",
   "metadata": {},
   "outputs": [],
   "source": [
    "deret = [1,2,3,4,5,6,7,8,9,12,19,2555,1345,99, 100]"
   ]
  },
  {
   "cell_type": "code",
   "execution_count": 51,
   "id": "9c10edad-a7f0-4451-a6a8-22de45154a07",
   "metadata": {},
   "outputs": [
    {
     "data": {
      "text/plain": [
       "[2, 4, 6, 8, 12, 100]"
      ]
     },
     "execution_count": 51,
     "metadata": {},
     "output_type": "execute_result"
    }
   ],
   "source": [
    "cekderet = list(filter(cekgenap, deret))\n",
    "cekderet"
   ]
  },
  {
   "cell_type": "code",
   "execution_count": 53,
   "id": "5cff5c42-8c52-40b6-bd78-f14aea71a9f6",
   "metadata": {},
   "outputs": [
    {
     "name": "stdout",
     "output_type": "stream",
     "text": [
      "2\n",
      "4\n",
      "6\n",
      "8\n",
      "12\n",
      "100\n"
     ]
    }
   ],
   "source": [
    "for item in filter(cekgenap, deret):\n",
    "    print(item)"
   ]
  },
  {
   "cell_type": "markdown",
   "id": "f2b10e9b-0be4-4ef3-9953-b8e5f5c0ac05",
   "metadata": {},
   "source": [
    "#### Catatan\n",
    " --- Map dan Filter akan sering ditemui saat bertemu dengan AI dan Data ---<br>\n",
    " Map : jika hasilnya seperti str, int dll<br>\n",
    " Filter : jika bertemu dengan boolean "
   ]
  },
  {
   "cell_type": "markdown",
   "id": "556ce6e2-bfc7-4274-a61e-ac631205fd0c",
   "metadata": {},
   "source": [
    "### Lambda Expression\n",
    "-- mirip dengan function tapi lebih effisien"
   ]
  },
  {
   "cell_type": "code",
   "execution_count": 62,
   "id": "fc4f215e-8254-40e5-b99e-e053bfccf445",
   "metadata": {},
   "outputs": [],
   "source": [
    "latlamb= lambda coba: coba*10"
   ]
  },
  {
   "cell_type": "code",
   "execution_count": 63,
   "id": "355805da-c8b0-4b36-b3da-3157bee717b8",
   "metadata": {},
   "outputs": [
    {
     "data": {
      "text/plain": [
       "100"
      ]
     },
     "execution_count": 63,
     "metadata": {},
     "output_type": "execute_result"
    }
   ],
   "source": [
    "latlamb(10)"
   ]
  },
  {
   "cell_type": "code",
   "execution_count": 67,
   "id": "5cff3c83-a919-4334-adc5-b9f9d04f99fe",
   "metadata": {},
   "outputs": [
    {
     "data": {
      "text/plain": [
       "[20, 40, 60, 80]"
      ]
     },
     "execution_count": 67,
     "metadata": {},
     "output_type": "execute_result"
    }
   ],
   "source": [
    "hasila= list(map(lambda coba: coba*10, angka))\n",
    "hasila"
   ]
  },
  {
   "cell_type": "code",
   "execution_count": 73,
   "id": "18e23837-d2fb-4bbe-be59-27d57c410d2d",
   "metadata": {},
   "outputs": [],
   "source": [
    "genapcek= list(filter(lambda num: num%2 == 0, deret))"
   ]
  },
  {
   "cell_type": "code",
   "execution_count": 74,
   "id": "d149feb6-7722-4dcc-86b7-ad50a53d515a",
   "metadata": {},
   "outputs": [
    {
     "data": {
      "text/plain": [
       "[2, 4, 6, 8, 12, 100]"
      ]
     },
     "execution_count": 74,
     "metadata": {},
     "output_type": "execute_result"
    }
   ],
   "source": [
    "genapcek"
   ]
  },
  {
   "cell_type": "code",
   "execution_count": null,
   "id": "312dd7b4-ff7c-4243-b8d4-72d74a469a5c",
   "metadata": {},
   "outputs": [],
   "source": []
  }
 ],
 "metadata": {
  "kernelspec": {
   "display_name": "Python 3 (ipykernel)",
   "language": "python",
   "name": "python3"
  },
  "language_info": {
   "codemirror_mode": {
    "name": "ipython",
    "version": 3
   },
   "file_extension": ".py",
   "mimetype": "text/x-python",
   "name": "python",
   "nbconvert_exporter": "python",
   "pygments_lexer": "ipython3",
   "version": "3.12.0"
  }
 },
 "nbformat": 4,
 "nbformat_minor": 5
}
