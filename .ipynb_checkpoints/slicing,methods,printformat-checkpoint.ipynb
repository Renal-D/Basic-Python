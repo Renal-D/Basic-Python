{
 "cells": [
  {
   "cell_type": "code",
   "execution_count": 7,
   "id": "1b449ccb-d3fb-4598-9042-3fad4491fce6",
   "metadata": {},
   "outputs": [
    {
     "data": {
      "text/plain": [
       "6"
      ]
     },
     "execution_count": 7,
     "metadata": {},
     "output_type": "execute_result"
    }
   ],
   "source": [
    "2*3"
   ]
  },
  {
   "cell_type": "code",
   "execution_count": 12,
   "id": "d2ba2f36-0e4d-402e-a031-0e2cd43cb00e",
   "metadata": {},
   "outputs": [
    {
     "data": {
      "text/plain": [
       "float"
      ]
     },
     "execution_count": 12,
     "metadata": {},
     "output_type": "execute_result"
    }
   ],
   "source": [
    "bil1 = 3.9\n",
    "type(bil1)"
   ]
  },
  {
   "cell_type": "markdown",
   "id": "843b9c95-35fb-4b1a-9f69-c488df031f7f",
   "metadata": {},
   "source": [
    "### MODULUS(%)"
   ]
  },
  {
   "cell_type": "code",
   "execution_count": 14,
   "id": "87389420-52ec-469f-a2cc-7c5027abcd3f",
   "metadata": {},
   "outputs": [
    {
     "data": {
      "text/plain": [
       "float"
      ]
     },
     "execution_count": 14,
     "metadata": {},
     "output_type": "execute_result"
    }
   ],
   "source": [
    "6/2\n",
    "type(6/2)"
   ]
  },
  {
   "cell_type": "code",
   "execution_count": 17,
   "id": "523a7e99-97bd-48f9-8d49-b76d410b4169",
   "metadata": {},
   "outputs": [
    {
     "data": {
      "text/plain": [
       "2"
      ]
     },
     "execution_count": 17,
     "metadata": {},
     "output_type": "execute_result"
    }
   ],
   "source": [
    "6%2\n",
    "6%4"
   ]
  },
  {
   "cell_type": "markdown",
   "id": "84760e83-533c-410a-af42-b284cff9fd40",
   "metadata": {},
   "source": [
    "### PANGKAT(**)"
   ]
  },
  {
   "cell_type": "code",
   "execution_count": 18,
   "id": "b155843a-de9b-4b36-952b-c0cf9bf47970",
   "metadata": {},
   "outputs": [
    {
     "data": {
      "text/plain": [
       "4"
      ]
     },
     "execution_count": 18,
     "metadata": {},
     "output_type": "execute_result"
    }
   ],
   "source": [
    "2**2"
   ]
  },
  {
   "cell_type": "code",
   "execution_count": 19,
   "id": "d64ebb4d-ceef-434b-980a-1d9c6dc22ae9",
   "metadata": {},
   "outputs": [
    {
     "data": {
      "text/plain": [
       "256"
      ]
     },
     "execution_count": 19,
     "metadata": {},
     "output_type": "execute_result"
    }
   ],
   "source": [
    "2**8"
   ]
  },
  {
   "cell_type": "code",
   "execution_count": 20,
   "id": "b81b850c-f15d-4d06-a3d4-ffcbd40fa7ef",
   "metadata": {},
   "outputs": [
    {
     "data": {
      "text/plain": [
       "642"
      ]
     },
     "execution_count": 20,
     "metadata": {},
     "output_type": "execute_result"
    }
   ],
   "source": [
    "2+10*8**2"
   ]
  },
  {
   "cell_type": "code",
   "execution_count": 21,
   "id": "46a2697f-6808-42d3-98ae-76eb19d5fc04",
   "metadata": {},
   "outputs": [
    {
     "data": {
      "text/plain": [
       "90"
      ]
     },
     "execution_count": 21,
     "metadata": {},
     "output_type": "execute_result"
    }
   ],
   "source": [
    "(2+8)*8+(8+2)"
   ]
  },
  {
   "cell_type": "markdown",
   "id": "efa021c6-985e-494a-b140-3ba19a075a4c",
   "metadata": {},
   "source": [
    "### INDEXING & SLICING"
   ]
  },
  {
   "cell_type": "code",
   "execution_count": 22,
   "id": "67d0f383-0f1d-4d48-aa38-0ea20228bc74",
   "metadata": {},
   "outputs": [],
   "source": [
    "a = 3\n",
    "item_saya = 20"
   ]
  },
  {
   "cell_type": "code",
   "execution_count": 24,
   "id": "98f4dad8-1572-4d81-b7b1-f6416d168bc8",
   "metadata": {},
   "outputs": [
    {
     "name": "stdout",
     "output_type": "stream",
     "text": [
      "['ikan', 'ayam', 'bebek']\n"
     ]
    }
   ],
   "source": [
    "item_saya = ['ikan', 'ayam', 'bebek']\n",
    "print(item_saya)"
   ]
  },
  {
   "cell_type": "code",
   "execution_count": 26,
   "id": "58967573-0083-4e1e-9f48-6e07e0772f55",
   "metadata": {},
   "outputs": [
    {
     "data": {
      "text/plain": [
       "'bebek'"
      ]
     },
     "execution_count": 26,
     "metadata": {},
     "output_type": "execute_result"
    }
   ],
   "source": [
    "item_saya[2]"
   ]
  },
  {
   "cell_type": "code",
   "execution_count": 27,
   "id": "b66074c6-523b-40cb-8b85-e8d7df3e7c19",
   "metadata": {},
   "outputs": [
    {
     "name": "stdout",
     "output_type": "stream",
     "text": [
      "Assalamu'alaikum\n"
     ]
    }
   ],
   "source": [
    "coba = \"Assalamu'alaikum\"\n",
    "print(coba)"
   ]
  },
  {
   "cell_type": "code",
   "execution_count": 28,
   "id": "ac1214a6-9209-4640-90cd-6d66d22dd9e2",
   "metadata": {},
   "outputs": [
    {
     "data": {
      "text/plain": [
       "\"Let's do it\""
      ]
     },
     "execution_count": 28,
     "metadata": {},
     "output_type": "execute_result"
    }
   ],
   "source": [
    "\"Let's do it\""
   ]
  },
  {
   "cell_type": "markdown",
   "id": "62cc0ab1-c4e0-4e57-9543-f9df786291d8",
   "metadata": {},
   "source": [
    "Slicing #aturan [awal:akhir:jarak]"
   ]
  },
  {
   "cell_type": "code",
   "execution_count": 29,
   "id": "c16ec54b-fd53-43b6-a192-149aee600637",
   "metadata": {},
   "outputs": [
    {
     "data": {
      "text/plain": [
       "'t'"
      ]
     },
     "execution_count": 29,
     "metadata": {},
     "output_type": "execute_result"
    }
   ],
   "source": [
    "\"Let's do it\"[2]"
   ]
  },
  {
   "cell_type": "code",
   "execution_count": 33,
   "id": "ad9c346e-6577-4cc9-afd7-9ac37e59aee5",
   "metadata": {},
   "outputs": [
    {
     "data": {
      "text/plain": [
       "\"e' oi\""
      ]
     },
     "execution_count": 33,
     "metadata": {},
     "output_type": "execute_result"
    }
   ],
   "source": [
    "\"Let's do it\"[1:-1:2]"
   ]
  },
  {
   "cell_type": "code",
   "execution_count": 34,
   "id": "a730a251-4dc6-43e1-8c71-31f8e0706c94",
   "metadata": {},
   "outputs": [
    {
     "data": {
      "text/plain": [
       "\"ti od s'teL\""
      ]
     },
     "execution_count": 34,
     "metadata": {},
     "output_type": "execute_result"
    }
   ],
   "source": [
    "\"Let's do it\"[::-1]"
   ]
  },
  {
   "cell_type": "code",
   "execution_count": 35,
   "id": "feab619b-37a7-47f9-92e6-6205d8784533",
   "metadata": {},
   "outputs": [
    {
     "name": "stdout",
     "output_type": "stream",
     "text": [
      "[1, 2, 3, 4, 5, 6, 7, 8, 9, 10]\n"
     ]
    }
   ],
   "source": [
    "item = [1,2,3,4,5,6,7,8,9,10]\n",
    "print(item)"
   ]
  },
  {
   "cell_type": "code",
   "execution_count": 36,
   "id": "62b43251-d1f7-4cba-b9e2-4f8b44c2b05e",
   "metadata": {},
   "outputs": [
    {
     "data": {
      "text/plain": [
       "[4, 7, 10]"
      ]
     },
     "execution_count": 36,
     "metadata": {},
     "output_type": "execute_result"
    }
   ],
   "source": [
    "item[3::3]"
   ]
  },
  {
   "cell_type": "code",
   "execution_count": null,
   "id": "8f56b9b2-6c9d-4d7e-b78d-e7622cc62826",
   "metadata": {},
   "outputs": [],
   "source": []
  }
 ],
 "metadata": {
  "kernelspec": {
   "display_name": "Python 3 (ipykernel)",
   "language": "python",
   "name": "python3"
  },
  "language_info": {
   "codemirror_mode": {
    "name": "ipython",
    "version": 3
   },
   "file_extension": ".py",
   "mimetype": "text/x-python",
   "name": "python",
   "nbconvert_exporter": "python",
   "pygments_lexer": "ipython3",
   "version": "3.11.2"
  }
 },
 "nbformat": 4,
 "nbformat_minor": 5
}
