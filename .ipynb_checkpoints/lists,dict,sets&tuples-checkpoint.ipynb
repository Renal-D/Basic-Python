{
 "cells": [
  {
   "cell_type": "code",
   "execution_count": 1,
   "id": "ffa22b14-4f3b-41ca-8092-db2601856feb",
   "metadata": {},
   "outputs": [],
   "source": [
    "agent = ['jett', 500.70, 'meta']"
   ]
  },
  {
   "cell_type": "code",
   "execution_count": 2,
   "id": "268170e8-1c1e-41b3-affb-f055f8dc4238",
   "metadata": {},
   "outputs": [
    {
     "data": {
      "text/plain": [
       "3"
      ]
     },
     "execution_count": 2,
     "metadata": {},
     "output_type": "execute_result"
    }
   ],
   "source": [
    "len(agent)"
   ]
  },
  {
   "cell_type": "code",
   "execution_count": 4,
   "id": "c8204d22-8962-43be-9d3f-04a1ce0f3f9b",
   "metadata": {},
   "outputs": [
    {
     "name": "stdout",
     "output_type": "stream",
     "text": [
      "jett\n",
      "500.7\n",
      "meta\n"
     ]
    }
   ],
   "source": [
    "for i in range(len(agent)):\n",
    "    print (agent[i])"
   ]
  },
  {
   "cell_type": "code",
   "execution_count": 5,
   "id": "a18a8237-2cf8-4d3b-8b63-0ea29643a597",
   "metadata": {},
   "outputs": [
    {
     "name": "stdout",
     "output_type": "stream",
     "text": [
      "jett\n",
      "500.7\n",
      "meta\n"
     ]
    }
   ],
   "source": [
    "for i in range(0,3):\n",
    "    print (agent[i])"
   ]
  },
  {
   "cell_type": "code",
   "execution_count": 9,
   "id": "7140d2bb-11cb-4c92-b1c4-4e1e1940278d",
   "metadata": {},
   "outputs": [
    {
     "data": {
      "text/plain": [
       "'meta'"
      ]
     },
     "execution_count": 9,
     "metadata": {},
     "output_type": "execute_result"
    }
   ],
   "source": [
    "agent[2]"
   ]
  },
  {
   "cell_type": "code",
   "execution_count": 10,
   "id": "539cd451-ce4d-40ed-b7ba-fa7828e6271c",
   "metadata": {},
   "outputs": [],
   "source": [
    "agent.append('Raze')"
   ]
  },
  {
   "cell_type": "code",
   "execution_count": 11,
   "id": "c1fb646a-96c5-4ad4-b37c-216490b2b9ff",
   "metadata": {},
   "outputs": [
    {
     "data": {
      "text/plain": [
       "['jett', 500.7, 'meta', 'Raze']"
      ]
     },
     "execution_count": 11,
     "metadata": {},
     "output_type": "execute_result"
    }
   ],
   "source": [
    "agent"
   ]
  },
  {
   "cell_type": "code",
   "execution_count": 12,
   "id": "30af1e91-fde5-4bb1-9ce8-a0a922756551",
   "metadata": {},
   "outputs": [],
   "source": [
    "agent_lagi= ['phoenix', 'op bnaget']"
   ]
  },
  {
   "cell_type": "code",
   "execution_count": 13,
   "id": "6974262e-b010-433e-84ed-c2555267172d",
   "metadata": {},
   "outputs": [],
   "source": [
    "agent = agent + agent_lagi"
   ]
  },
  {
   "cell_type": "code",
   "execution_count": 14,
   "id": "d0fb6d47-920f-4f5d-932a-71ee6dcd2c35",
   "metadata": {},
   "outputs": [
    {
     "data": {
      "text/plain": [
       "['jett', 500.7, 'meta', 'Raze', 'phoenix', 'op bnaget']"
      ]
     },
     "execution_count": 14,
     "metadata": {},
     "output_type": "execute_result"
    }
   ],
   "source": [
    "agent"
   ]
  },
  {
   "cell_type": "code",
   "execution_count": 15,
   "id": "eb47fe70-f89a-4c10-9ad1-3f3d150174f4",
   "metadata": {},
   "outputs": [
    {
     "data": {
      "text/plain": [
       "6"
      ]
     },
     "execution_count": 15,
     "metadata": {},
     "output_type": "execute_result"
    }
   ],
   "source": [
    "len(agent)"
   ]
  },
  {
   "cell_type": "code",
   "execution_count": 17,
   "id": "ab04c0b6-54fd-4bef-8fed-b02242187268",
   "metadata": {},
   "outputs": [],
   "source": [
    "baru = [1,2,3,4,5]"
   ]
  },
  {
   "cell_type": "code",
   "execution_count": 18,
   "id": "a8f8e531-e1e5-48b8-ae89-6c85384b1205",
   "metadata": {},
   "outputs": [
    {
     "data": {
      "text/plain": [
       "5"
      ]
     },
     "execution_count": 18,
     "metadata": {},
     "output_type": "execute_result"
    }
   ],
   "source": [
    "baru.pop()"
   ]
  },
  {
   "cell_type": "code",
   "execution_count": 19,
   "id": "d778364b-51b4-41a2-bd4a-9571cb2fedfd",
   "metadata": {},
   "outputs": [
    {
     "data": {
      "text/plain": [
       "2"
      ]
     },
     "execution_count": 19,
     "metadata": {},
     "output_type": "execute_result"
    }
   ],
   "source": [
    "baru.pop(1)"
   ]
  },
  {
   "cell_type": "code",
   "execution_count": 20,
   "id": "116ddeb6-aa5b-4f96-9659-a9decbd6a35d",
   "metadata": {},
   "outputs": [
    {
     "data": {
      "text/plain": [
       "[1, 3, 4]"
      ]
     },
     "execution_count": 20,
     "metadata": {},
     "output_type": "execute_result"
    }
   ],
   "source": [
    "baru"
   ]
  },
  {
   "cell_type": "code",
   "execution_count": 1,
   "id": "e2faea45-d5ba-44df-b4f8-7fee6af80b2c",
   "metadata": {},
   "outputs": [],
   "source": [
    "list_ku = ['beatrix', 'julian', 'arlet']"
   ]
  },
  {
   "cell_type": "code",
   "execution_count": 2,
   "id": "58fa26b1-1e59-49eb-b123-5adb420807f2",
   "metadata": {},
   "outputs": [],
   "source": [
    "list_ku.reverse()"
   ]
  },
  {
   "cell_type": "code",
   "execution_count": 3,
   "id": "a4044e45-5f54-4b21-9725-269cbeeb2c3f",
   "metadata": {},
   "outputs": [
    {
     "data": {
      "text/plain": [
       "['arlet', 'julian', 'beatrix']"
      ]
     },
     "execution_count": 3,
     "metadata": {},
     "output_type": "execute_result"
    }
   ],
   "source": [
    "list_ku"
   ]
  },
  {
   "cell_type": "code",
   "execution_count": 4,
   "id": "10969ca2-84d4-4579-b4b5-f17ceb49d852",
   "metadata": {},
   "outputs": [],
   "source": [
    "list_ku.sort()"
   ]
  },
  {
   "cell_type": "code",
   "execution_count": 5,
   "id": "cde00e68-b0a5-4735-9f8e-1a80629271c0",
   "metadata": {},
   "outputs": [
    {
     "data": {
      "text/plain": [
       "['arlet', 'beatrix', 'julian']"
      ]
     },
     "execution_count": 5,
     "metadata": {},
     "output_type": "execute_result"
    }
   ],
   "source": [
    "list_ku"
   ]
  },
  {
   "cell_type": "markdown",
   "id": "d3ab3f02-bd1f-4f41-9200-f9574c4e44af",
   "metadata": {},
   "source": [
    "### NESTED LIST"
   ]
  },
  {
   "cell_type": "code",
   "execution_count": 1,
   "id": "7bf71198-680f-4d6c-953c-340ea51c2321",
   "metadata": {},
   "outputs": [],
   "source": [
    "isi = [1,2,3,4,5,[6,7,8]]"
   ]
  },
  {
   "cell_type": "code",
   "execution_count": 2,
   "id": "ae95c6b2-11b7-4db2-be2b-6af87aab63ce",
   "metadata": {},
   "outputs": [
    {
     "data": {
      "text/plain": [
       "[1, 2, 3, 4, 5, [6, 7, 8]]"
      ]
     },
     "execution_count": 2,
     "metadata": {},
     "output_type": "execute_result"
    }
   ],
   "source": [
    "isi"
   ]
  },
  {
   "cell_type": "code",
   "execution_count": 3,
   "id": "30aed119-b9ad-4a0d-a403-0ffd5e6e3ff3",
   "metadata": {},
   "outputs": [
    {
     "data": {
      "text/plain": [
       "3"
      ]
     },
     "execution_count": 3,
     "metadata": {},
     "output_type": "execute_result"
    }
   ],
   "source": [
    "isi[2]"
   ]
  },
  {
   "cell_type": "code",
   "execution_count": 4,
   "id": "cdbfcd03-bac3-4e46-b1ee-c228fe3ab0f9",
   "metadata": {},
   "outputs": [
    {
     "data": {
      "text/plain": [
       "[3, 4, 5, [6, 7, 8]]"
      ]
     },
     "execution_count": 4,
     "metadata": {},
     "output_type": "execute_result"
    }
   ],
   "source": [
    "isi[2:]"
   ]
  },
  {
   "cell_type": "code",
   "execution_count": 5,
   "id": "8ec51361-56ad-4ea1-8147-9152d9f915e9",
   "metadata": {},
   "outputs": [
    {
     "data": {
      "text/plain": [
       "[6, 7, 8]"
      ]
     },
     "execution_count": 5,
     "metadata": {},
     "output_type": "execute_result"
    }
   ],
   "source": [
    "isi[5]"
   ]
  },
  {
   "cell_type": "code",
   "execution_count": 6,
   "id": "ab44014b-3b0b-4a32-b76e-de72aa55c74a",
   "metadata": {},
   "outputs": [
    {
     "data": {
      "text/plain": [
       "7"
      ]
     },
     "execution_count": 6,
     "metadata": {},
     "output_type": "execute_result"
    }
   ],
   "source": [
    "isi[5][1]"
   ]
  },
  {
   "cell_type": "code",
   "execution_count": 7,
   "id": "c16ae11c-d0bc-4e06-8011-797c4d21b23b",
   "metadata": {},
   "outputs": [],
   "source": [
    "isi2 = [1,2,3,4,[5,6,7,[8,9,'target', 12]]]"
   ]
  },
  {
   "cell_type": "code",
   "execution_count": 8,
   "id": "77f7375a-fb03-44f1-97c6-110493e0c10b",
   "metadata": {},
   "outputs": [
    {
     "data": {
      "text/plain": [
       "[1, 2, 3, 4, [5, 6, 7, [8, 9, 'target', 12]]]"
      ]
     },
     "execution_count": 8,
     "metadata": {},
     "output_type": "execute_result"
    }
   ],
   "source": [
    "isi2"
   ]
  },
  {
   "cell_type": "code",
   "execution_count": 11,
   "id": "0ea79889-358d-4c60-b02e-219a0b71d858",
   "metadata": {},
   "outputs": [
    {
     "data": {
      "text/plain": [
       "[8, 9, 'target', 12]"
      ]
     },
     "execution_count": 11,
     "metadata": {},
     "output_type": "execute_result"
    }
   ],
   "source": [
    "isi2[4][3]"
   ]
  },
  {
   "cell_type": "code",
   "execution_count": 12,
   "id": "aa635532-db89-49c7-b51b-bcb534aa53c4",
   "metadata": {},
   "outputs": [
    {
     "data": {
      "text/plain": [
       "'target'"
      ]
     },
     "execution_count": 12,
     "metadata": {},
     "output_type": "execute_result"
    }
   ],
   "source": [
    "isi2[4][3][2]"
   ]
  },
  {
   "cell_type": "markdown",
   "id": "47cda7da-c38f-48f1-8333-98cff4492c1b",
   "metadata": {},
   "source": [
    "### apakah sama"
   ]
  },
  {
   "cell_type": "code",
   "execution_count": 13,
   "id": "247daa58-bbd5-43e4-8493-bc8702a7a7fd",
   "metadata": {},
   "outputs": [],
   "source": [
    "var1 = list()"
   ]
  },
  {
   "cell_type": "code",
   "execution_count": 14,
   "id": "f7cb6117-84df-4fd0-8cff-5ece68e9ff31",
   "metadata": {},
   "outputs": [],
   "source": [
    "var2 = []"
   ]
  },
  {
   "cell_type": "code",
   "execution_count": 15,
   "id": "74315b8f-4e3f-4476-a482-95e145716eb5",
   "metadata": {},
   "outputs": [
    {
     "name": "stdout",
     "output_type": "stream",
     "text": [
      "sama\n"
     ]
    }
   ],
   "source": [
    "if var1 == var2:\n",
    "    print('sama')"
   ]
  },
  {
   "cell_type": "code",
   "execution_count": 19,
   "id": "6ab22cc3-b874-4bd2-9de4-93375658f1f3",
   "metadata": {},
   "outputs": [
    {
     "data": {
      "text/plain": [
       "['P',\n",
       " 'y',\n",
       " 't',\n",
       " 'h',\n",
       " 'o',\n",
       " 'n',\n",
       " ' ',\n",
       " 's',\n",
       " 'a',\n",
       " 'n',\n",
       " 'g',\n",
       " 'a',\n",
       " 't',\n",
       " ' ',\n",
       " 'm',\n",
       " 'u',\n",
       " 'd',\n",
       " 'a',\n",
       " 'h',\n",
       " ' ',\n",
       " 'b',\n",
       " 'u',\n",
       " 'k',\n",
       " 'a',\n",
       " 'n']"
      ]
     },
     "execution_count": 19,
     "metadata": {},
     "output_type": "execute_result"
    }
   ],
   "source": [
    "list('Python sangat mudah bukan')"
   ]
  },
  {
   "cell_type": "code",
   "execution_count": 20,
   "id": "91588c52-19f7-4864-8647-2baea2eb1316",
   "metadata": {},
   "outputs": [],
   "source": [
    "genap = [2,4,6,8]\n",
    "ganjil = [1,3,5,7]"
   ]
  },
  {
   "cell_type": "code",
   "execution_count": 21,
   "id": "21cdbf4f-3ca4-4071-afb3-4d15a057e24d",
   "metadata": {},
   "outputs": [],
   "source": [
    "bilangan = [ganjil, genap]"
   ]
  },
  {
   "cell_type": "code",
   "execution_count": 22,
   "id": "04970897-9665-40e3-8f5f-70ebb2e2d3eb",
   "metadata": {},
   "outputs": [
    {
     "data": {
      "text/plain": [
       "[[1, 3, 5, 7], [2, 4, 6, 8]]"
      ]
     },
     "execution_count": 22,
     "metadata": {},
     "output_type": "execute_result"
    }
   ],
   "source": [
    "bilangan"
   ]
  },
  {
   "cell_type": "code",
   "execution_count": 25,
   "id": "45fa627b-b493-428a-8440-916333a9986c",
   "metadata": {},
   "outputs": [
    {
     "name": "stdout",
     "output_type": "stream",
     "text": [
      "[1, 3, 5, 7]\n",
      "1\n",
      "3\n",
      "5\n",
      "7\n",
      "[2, 4, 6, 8]\n",
      "2\n",
      "4\n",
      "6\n",
      "8\n"
     ]
    }
   ],
   "source": [
    "for apapun in bilangan:\n",
    "    print(apapun)\n",
    "    \n",
    "    for apaya in apapun:\n",
    "        print(apaya)"
   ]
  },
  {
   "cell_type": "markdown",
   "id": "cba9b5e3-b3cf-4837-9ed3-32cb1ee0e3dc",
   "metadata": {},
   "source": [
    "## DICTIONARY"
   ]
  },
  {
   "cell_type": "code",
   "execution_count": 26,
   "id": "e8e29eb0-f61a-442a-a645-c2689835cf2c",
   "metadata": {},
   "outputs": [],
   "source": [
    "dict1 = {'agent':'jett', 'agent2':'raze'}"
   ]
  },
  {
   "cell_type": "code",
   "execution_count": 27,
   "id": "9a49ac97-e844-4211-ab57-c90a331fcb75",
   "metadata": {},
   "outputs": [
    {
     "data": {
      "text/plain": [
       "{'agent': 'jett', 'agent2': 'raze'}"
      ]
     },
     "execution_count": 27,
     "metadata": {},
     "output_type": "execute_result"
    }
   ],
   "source": [
    "dict1"
   ]
  },
  {
   "cell_type": "code",
   "execution_count": 28,
   "id": "7355fdd6-407e-4711-8986-3e9d30c494fe",
   "metadata": {},
   "outputs": [
    {
     "data": {
      "text/plain": [
       "'jett'"
      ]
     },
     "execution_count": 28,
     "metadata": {},
     "output_type": "execute_result"
    }
   ],
   "source": [
    "dict1['agent']"
   ]
  },
  {
   "cell_type": "code",
   "execution_count": 31,
   "id": "fa065947-3981-4192-8bb7-572137acdd3d",
   "metadata": {},
   "outputs": [
    {
     "data": {
      "text/plain": [
       "'raze'"
      ]
     },
     "execution_count": 31,
     "metadata": {},
     "output_type": "execute_result"
    }
   ],
   "source": [
    "dict1['agent2']"
   ]
  },
  {
   "cell_type": "code",
   "execution_count": 32,
   "id": "8c018faf-af77-4d80-a676-b490ce087f09",
   "metadata": {},
   "outputs": [],
   "source": [
    "daftar_game = {'mole': 10000, 'valo':2500, 'wildrift':3000}"
   ]
  },
  {
   "cell_type": "code",
   "execution_count": 33,
   "id": "4b192c68-420a-4c23-b1e3-569028b388e9",
   "metadata": {},
   "outputs": [
    {
     "data": {
      "text/plain": [
       "{'mole': 10000, 'valo': 2500, 'wildrift': 3000}"
      ]
     },
     "execution_count": 33,
     "metadata": {},
     "output_type": "execute_result"
    }
   ],
   "source": [
    "daftar_game"
   ]
  },
  {
   "cell_type": "code",
   "execution_count": 34,
   "id": "f6f3fc14-810a-4822-acde-b21125ab09ae",
   "metadata": {},
   "outputs": [
    {
     "data": {
      "text/plain": [
       "2500"
      ]
     },
     "execution_count": 34,
     "metadata": {},
     "output_type": "execute_result"
    }
   ],
   "source": [
    "daftar_game['valo']"
   ]
  },
  {
   "cell_type": "code",
   "execution_count": 35,
   "id": "5390a8d2-3079-4831-8ca1-ea4b60ad1ea4",
   "metadata": {},
   "outputs": [],
   "source": [
    "dict2 = {'agent1':'jett', 'agent2':{'agent6':'raze', 'agent3':'phoenix'},'agent4':['apa','yang',1]}"
   ]
  },
  {
   "cell_type": "code",
   "execution_count": 38,
   "id": "a915359b-5a39-4fe0-b31e-099444d9220a",
   "metadata": {},
   "outputs": [
    {
     "data": {
      "text/plain": [
       "{'agent1': 'jett',\n",
       " 'agent2': {'agent6': 'raze', 'agent3': 'phoenix'},\n",
       " 'agent4': ['apa', 'yang', 1]}"
      ]
     },
     "execution_count": 38,
     "metadata": {},
     "output_type": "execute_result"
    }
   ],
   "source": [
    "dict2"
   ]
  },
  {
   "cell_type": "code",
   "execution_count": 44,
   "id": "c29ba7cd-b584-406b-aff3-a2cc24476b36",
   "metadata": {},
   "outputs": [
    {
     "data": {
      "text/plain": [
       "'phoenix'"
      ]
     },
     "execution_count": 44,
     "metadata": {},
     "output_type": "execute_result"
    }
   ],
   "source": [
    "dict2['agent2']['agent3']\n"
   ]
  },
  {
   "cell_type": "code",
   "execution_count": 45,
   "id": "bf18f3b7-a636-4c0d-bded-ca8ae1cea7a9",
   "metadata": {},
   "outputs": [],
   "source": [
    "dict2['agent3'] = 'SAGE'"
   ]
  },
  {
   "cell_type": "code",
   "execution_count": 51,
   "id": "2e95ad36-740e-4865-8d4d-ea189ca93ebe",
   "metadata": {},
   "outputs": [
    {
     "data": {
      "text/plain": [
       "{'agent1': 'jett',\n",
       " 'agent2': {'agent6': 'raze', 'agent3': 'phoenix'},\n",
       " 'agent4': ['apa', 'yang', 1],\n",
       " 'agent3': 'SAGE'}"
      ]
     },
     "execution_count": 51,
     "metadata": {},
     "output_type": "execute_result"
    }
   ],
   "source": [
    "dict2"
   ]
  },
  {
   "cell_type": "code",
   "execution_count": 52,
   "id": "554f070d-a8d6-4059-abf3-a6e417f9204b",
   "metadata": {},
   "outputs": [
    {
     "data": {
      "text/plain": [
       "dict_keys(['agent1', 'agent2', 'agent4', 'agent3'])"
      ]
     },
     "execution_count": 52,
     "metadata": {},
     "output_type": "execute_result"
    }
   ],
   "source": [
    "dict2.keys()"
   ]
  },
  {
   "cell_type": "code",
   "execution_count": 53,
   "id": "5f00cad6-a007-4191-b2d7-8a262036098b",
   "metadata": {},
   "outputs": [
    {
     "data": {
      "text/plain": [
       "dict_values(['jett', {'agent6': 'raze', 'agent3': 'phoenix'}, ['apa', 'yang', 1], 'SAGE'])"
      ]
     },
     "execution_count": 53,
     "metadata": {},
     "output_type": "execute_result"
    }
   ],
   "source": [
    "dict2.values()"
   ]
  },
  {
   "cell_type": "code",
   "execution_count": 55,
   "id": "1c5b6207-e5d5-454f-9d4f-28ffa0469454",
   "metadata": {},
   "outputs": [
    {
     "data": {
      "text/plain": [
       "dict_items([('agent1', 'jett'), ('agent2', {'agent6': 'raze', 'agent3': 'phoenix'}), ('agent4', ['apa', 'yang', 1]), ('agent3', 'SAGE')])"
      ]
     },
     "execution_count": 55,
     "metadata": {},
     "output_type": "execute_result"
    }
   ],
   "source": [
    "dict2.items()"
   ]
  },
  {
   "cell_type": "code",
   "execution_count": 62,
   "id": "7dc0bdaa-6fb1-4e59-9b93-96cb7aecb737",
   "metadata": {},
   "outputs": [
    {
     "data": {
      "text/plain": [
       "'RAZE'"
      ]
     },
     "execution_count": 62,
     "metadata": {},
     "output_type": "execute_result"
    }
   ],
   "source": [
    "valo = dict2['agent2']['agent6'].upper()\n",
    "valo"
   ]
  },
  {
   "cell_type": "markdown",
   "id": "95407231-cea3-4727-8db7-46386515e314",
   "metadata": {},
   "source": [
    "### TUPLES"
   ]
  },
  {
   "cell_type": "markdown",
   "id": "effac857-426d-4349-af26-e36c5583eda3",
   "metadata": {},
   "source": [
    ">tuples bersifat immutable (tidak bisa dirubah isinya)"
   ]
  },
  {
   "cell_type": "code",
   "execution_count": 63,
   "id": "bb29f26f-5ec1-4325-922f-90595142200e",
   "metadata": {},
   "outputs": [],
   "source": [
    "agent = ('jett','raze','phoenix')"
   ]
  },
  {
   "cell_type": "code",
   "execution_count": 64,
   "id": "b4207556-9c1f-4038-a895-2a930035f5ab",
   "metadata": {},
   "outputs": [],
   "source": [
    "agent2 = 'jett','raze','phoenix'"
   ]
  },
  {
   "cell_type": "code",
   "execution_count": 65,
   "id": "99a4e470-0c10-4831-8254-265253261259",
   "metadata": {},
   "outputs": [
    {
     "data": {
      "text/plain": [
       "('jett', 'raze', 'phoenix')"
      ]
     },
     "execution_count": 65,
     "metadata": {},
     "output_type": "execute_result"
    }
   ],
   "source": [
    "agent"
   ]
  },
  {
   "cell_type": "code",
   "execution_count": 67,
   "id": "2ad28f7e-7d86-4914-b025-b7da49746bef",
   "metadata": {},
   "outputs": [
    {
     "data": {
      "text/plain": [
       "('jett', 'raze', 'phoenix')"
      ]
     },
     "execution_count": 67,
     "metadata": {},
     "output_type": "execute_result"
    }
   ],
   "source": [
    "agent2"
   ]
  },
  {
   "cell_type": "code",
   "execution_count": 68,
   "id": "811f6d53-6db7-469a-93c9-198c7aeabf46",
   "metadata": {},
   "outputs": [
    {
     "data": {
      "text/plain": [
       "tuple"
      ]
     },
     "execution_count": 68,
     "metadata": {},
     "output_type": "execute_result"
    }
   ],
   "source": [
    "type(agent)"
   ]
  },
  {
   "cell_type": "code",
   "execution_count": 69,
   "id": "6dfc4c2b-f40e-4812-abee-211514184f80",
   "metadata": {},
   "outputs": [
    {
     "data": {
      "text/plain": [
       "tuple"
      ]
     },
     "execution_count": 69,
     "metadata": {},
     "output_type": "execute_result"
    }
   ],
   "source": [
    "type(agent2)"
   ]
  },
  {
   "cell_type": "code",
   "execution_count": 70,
   "id": "f07a60e8-ca22-441d-87b8-c3d5262e92ba",
   "metadata": {},
   "outputs": [
    {
     "ename": "TypeError",
     "evalue": "'tuple' object does not support item assignment",
     "output_type": "error",
     "traceback": [
      "\u001b[1;31m---------------------------------------------------------------------------\u001b[0m",
      "\u001b[1;31mTypeError\u001b[0m                                 Traceback (most recent call last)",
      "Cell \u001b[1;32mIn[70], line 1\u001b[0m\n\u001b[1;32m----> 1\u001b[0m \u001b[43magent\u001b[49m\u001b[43m[\u001b[49m\u001b[38;5;241;43m2\u001b[39;49m\u001b[43m]\u001b[49m \u001b[38;5;241m=\u001b[39m \u001b[38;5;124m'\u001b[39m\u001b[38;5;124mSAGE\u001b[39m\u001b[38;5;124m'\u001b[39m\n",
      "\u001b[1;31mTypeError\u001b[0m: 'tuple' object does not support item assignment"
     ]
    }
   ],
   "source": [
    "agent[2] = 'SAGE'"
   ]
  },
  {
   "cell_type": "code",
   "execution_count": 71,
   "id": "37085906-d9e2-43b2-bc62-906b5816b103",
   "metadata": {},
   "outputs": [],
   "source": [
    "agent = list(agent)"
   ]
  },
  {
   "cell_type": "code",
   "execution_count": 80,
   "id": "c35183b9-898c-424f-a4fd-80bed6a696e9",
   "metadata": {},
   "outputs": [
    {
     "data": {
      "text/plain": [
       "['jett', 'raze', 'serra']"
      ]
     },
     "execution_count": 80,
     "metadata": {},
     "output_type": "execute_result"
    }
   ],
   "source": [
    "agent[2] = 'serra'\n",
    "agent"
   ]
  },
  {
   "cell_type": "code",
   "execution_count": 82,
   "id": "a0f120ad-31bb-4348-80b9-f0f8a21f59f7",
   "metadata": {},
   "outputs": [
    {
     "data": {
      "text/plain": [
       "('jett', 'raze', 'serra')"
      ]
     },
     "execution_count": 82,
     "metadata": {},
     "output_type": "execute_result"
    }
   ],
   "source": [
    "agent = tuple(agent)\n",
    "agent"
   ]
  },
  {
   "cell_type": "code",
   "execution_count": 83,
   "id": "ea8c379d-5cc8-4397-92e4-c94cbf9c648a",
   "metadata": {},
   "outputs": [],
   "source": [
    "tuple1 = (1,2,3,4,5)"
   ]
  },
  {
   "cell_type": "code",
   "execution_count": 84,
   "id": "49d557f5-3f00-4ecd-8e2c-130199e701ad",
   "metadata": {},
   "outputs": [
    {
     "data": {
      "text/plain": [
       "(1, 2, 3, 4, 5)"
      ]
     },
     "execution_count": 84,
     "metadata": {},
     "output_type": "execute_result"
    }
   ],
   "source": [
    "tuple1"
   ]
  },
  {
   "cell_type": "markdown",
   "id": "a7e2bb0f-028f-403c-a936-20deb75a2a26",
   "metadata": {},
   "source": [
    "#### Method Tuple"
   ]
  },
  {
   "cell_type": "code",
   "execution_count": 87,
   "id": "dee7a017-dcbd-4e28-8981-4e892dbc0142",
   "metadata": {},
   "outputs": [
    {
     "data": {
      "text/plain": [
       "1"
      ]
     },
     "execution_count": 87,
     "metadata": {},
     "output_type": "execute_result"
    }
   ],
   "source": [
    "tuple1.count(3)"
   ]
  },
  {
   "cell_type": "code",
   "execution_count": 88,
   "id": "066d9d6b-e1f3-4629-a522-62d37c65096b",
   "metadata": {},
   "outputs": [
    {
     "data": {
      "text/plain": [
       "4"
      ]
     },
     "execution_count": 88,
     "metadata": {},
     "output_type": "execute_result"
    }
   ],
   "source": [
    "tuple1.index(5)"
   ]
  },
  {
   "cell_type": "markdown",
   "id": "2e3a15ac-f833-453b-8fa3-a43f0e10969e",
   "metadata": {},
   "source": [
    "###  Multiples Assignment"
   ]
  },
  {
   "cell_type": "code",
   "execution_count": 89,
   "id": "ccc966d3-2371-4843-ade3-ca04bdd8d776",
   "metadata": {},
   "outputs": [],
   "source": [
    "a,b,c,d = (1,2,3,4)"
   ]
  },
  {
   "cell_type": "code",
   "execution_count": 90,
   "id": "c7b79c66-aa76-4338-bd7b-4d424e342e4d",
   "metadata": {},
   "outputs": [
    {
     "data": {
      "text/plain": [
       "1"
      ]
     },
     "execution_count": 90,
     "metadata": {},
     "output_type": "execute_result"
    }
   ],
   "source": [
    "a"
   ]
  },
  {
   "cell_type": "code",
   "execution_count": 91,
   "id": "75bbfb42-cc93-456f-9114-26c298fb37ee",
   "metadata": {},
   "outputs": [
    {
     "data": {
      "text/plain": [
       "2"
      ]
     },
     "execution_count": 91,
     "metadata": {},
     "output_type": "execute_result"
    }
   ],
   "source": [
    "b"
   ]
  },
  {
   "cell_type": "code",
   "execution_count": 92,
   "id": "82318f5f-c9d2-412f-88ea-7e2babea1faa",
   "metadata": {},
   "outputs": [
    {
     "data": {
      "text/plain": [
       "3"
      ]
     },
     "execution_count": 92,
     "metadata": {},
     "output_type": "execute_result"
    }
   ],
   "source": [
    "c"
   ]
  },
  {
   "cell_type": "code",
   "execution_count": 93,
   "id": "c9e86c9d-55b8-4340-9196-2945e16a4210",
   "metadata": {},
   "outputs": [
    {
     "data": {
      "text/plain": [
       "4"
      ]
     },
     "execution_count": 93,
     "metadata": {},
     "output_type": "execute_result"
    }
   ],
   "source": [
    "d"
   ]
  },
  {
   "cell_type": "code",
   "execution_count": 94,
   "id": "e975c439-302a-4b0a-8b35-063723d6da91",
   "metadata": {},
   "outputs": [],
   "source": [
    "a = b = c = d = 'JETT' "
   ]
  },
  {
   "cell_type": "code",
   "execution_count": 95,
   "id": "a9457496-9740-4b8f-85c1-eaf7f40aeb9d",
   "metadata": {},
   "outputs": [
    {
     "data": {
      "text/plain": [
       "'JETT'"
      ]
     },
     "execution_count": 95,
     "metadata": {},
     "output_type": "execute_result"
    }
   ],
   "source": [
    "a"
   ]
  },
  {
   "cell_type": "code",
   "execution_count": 77,
   "id": "38c9bc4f-2d3a-4bf2-aff0-2122ef0cbfc2",
   "metadata": {},
   "outputs": [
    {
     "data": {
      "text/plain": [
       "'JETT'"
      ]
     },
     "execution_count": 77,
     "metadata": {},
     "output_type": "execute_result"
    }
   ],
   "source": [
    "b"
   ]
  },
  {
   "cell_type": "code",
   "execution_count": 97,
   "id": "7990f115-7924-47f1-8085-fd6d6bc7abaa",
   "metadata": {},
   "outputs": [],
   "source": [
    "agent = ('jett','raze','phoenix',1,1.5,9,[1,2,3,4])"
   ]
  },
  {
   "cell_type": "code",
   "execution_count": 98,
   "id": "c2d8e2e1-0bc9-41c7-a733-e6b514e0408f",
   "metadata": {},
   "outputs": [
    {
     "data": {
      "text/plain": [
       "('jett', 'raze', 'phoenix', 1, 1.5, 9, [1, 2, 3, 4])"
      ]
     },
     "execution_count": 98,
     "metadata": {},
     "output_type": "execute_result"
    }
   ],
   "source": [
    "agent"
   ]
  },
  {
   "cell_type": "code",
   "execution_count": 99,
   "id": "9f6ff8e1-78ac-4c56-91a6-33bbecc92f41",
   "metadata": {},
   "outputs": [],
   "source": [
    "item1, item2, item3, item4, item5,item6, item7 = agent"
   ]
  },
  {
   "cell_type": "code",
   "execution_count": 100,
   "id": "1f01d207-01e4-4b11-8f32-0ae26d7e732d",
   "metadata": {},
   "outputs": [
    {
     "data": {
      "text/plain": [
       "'jett'"
      ]
     },
     "execution_count": 100,
     "metadata": {},
     "output_type": "execute_result"
    }
   ],
   "source": [
    "item1"
   ]
  },
  {
   "cell_type": "code",
   "execution_count": 103,
   "id": "1a6302ca-e266-4fc1-8703-6c11cab8d3cf",
   "metadata": {},
   "outputs": [
    {
     "data": {
      "text/plain": [
       "[1, 2, 3, 4]"
      ]
     },
     "execution_count": 103,
     "metadata": {},
     "output_type": "execute_result"
    }
   ],
   "source": [
    "item7"
   ]
  },
  {
   "cell_type": "markdown",
   "id": "846f4276-1e39-4f76-b04d-b9d6051241c0",
   "metadata": {},
   "source": [
    "### SETS"
   ]
  },
  {
   "cell_type": "markdown",
   "id": "d9c525e2-30e2-4c54-9af8-f7f17a7a6ee3",
   "metadata": {},
   "source": [
    "> bersifat unik (no duplicate) & *tidak berurutan*"
   ]
  },
  {
   "cell_type": "code",
   "execution_count": 104,
   "id": "50e43d0c-1857-4a0a-ac01-6f0b8df822ea",
   "metadata": {},
   "outputs": [],
   "source": [
    "set1 = set()"
   ]
  },
  {
   "cell_type": "code",
   "execution_count": 105,
   "id": "aaa2f8bd-1cde-4ded-8d5a-4d9df8d79770",
   "metadata": {},
   "outputs": [
    {
     "data": {
      "text/plain": [
       "set()"
      ]
     },
     "execution_count": 105,
     "metadata": {},
     "output_type": "execute_result"
    }
   ],
   "source": [
    "set1"
   ]
  },
  {
   "cell_type": "code",
   "execution_count": 106,
   "id": "6f1f3434-5634-4858-ac98-e32697440643",
   "metadata": {},
   "outputs": [],
   "source": [
    "set1.add('Beatrix')"
   ]
  },
  {
   "cell_type": "code",
   "execution_count": 107,
   "id": "647bc6b3-e9b9-4f3d-9e0c-ffb3bbfc66fd",
   "metadata": {},
   "outputs": [
    {
     "data": {
      "text/plain": [
       "{'Beatrix'}"
      ]
     },
     "execution_count": 107,
     "metadata": {},
     "output_type": "execute_result"
    }
   ],
   "source": [
    "set1"
   ]
  },
  {
   "cell_type": "code",
   "execution_count": 111,
   "id": "2873dad7-b89b-4777-b848-59f101ff0057",
   "metadata": {},
   "outputs": [],
   "source": [
    "set1.add('Serra')"
   ]
  },
  {
   "cell_type": "code",
   "execution_count": 112,
   "id": "6defa5a7-3d50-406a-9f9a-c072fa41a853",
   "metadata": {},
   "outputs": [
    {
     "data": {
      "text/plain": [
       "{'Beatrix', 'Serra'}"
      ]
     },
     "execution_count": 112,
     "metadata": {},
     "output_type": "execute_result"
    }
   ],
   "source": [
    "set1"
   ]
  },
  {
   "cell_type": "code",
   "execution_count": 108,
   "id": "78e6da9d-db35-4ada-b765-29cf82ac47c8",
   "metadata": {},
   "outputs": [],
   "source": [
    "list_angka = (1,2,3,3,3,3,4,5,5,5,6,7,8,8,8,8,9)"
   ]
  },
  {
   "cell_type": "code",
   "execution_count": 113,
   "id": "14bee547-3174-49d4-a4f3-ddfc9acee61a",
   "metadata": {},
   "outputs": [],
   "source": [
    "set_angka = set(list_angka)"
   ]
  },
  {
   "cell_type": "code",
   "execution_count": 114,
   "id": "a5b32cf4-5b92-4c67-81f3-6b9b861348a2",
   "metadata": {},
   "outputs": [
    {
     "data": {
      "text/plain": [
       "{1, 2, 3, 4, 5, 6, 7, 8, 9}"
      ]
     },
     "execution_count": 114,
     "metadata": {},
     "output_type": "execute_result"
    }
   ],
   "source": [
    "set_angka"
   ]
  },
  {
   "cell_type": "code",
   "execution_count": null,
   "id": "383da794-6a18-4cbf-bec7-08e58750db49",
   "metadata": {},
   "outputs": [],
   "source": []
  }
 ],
 "metadata": {
  "kernelspec": {
   "display_name": "Python 3 (ipykernel)",
   "language": "python",
   "name": "python3"
  },
  "language_info": {
   "codemirror_mode": {
    "name": "ipython",
    "version": 3
   },
   "file_extension": ".py",
   "mimetype": "text/x-python",
   "name": "python",
   "nbconvert_exporter": "python",
   "pygments_lexer": "ipython3",
   "version": "3.12.0"
  }
 },
 "nbformat": 4,
 "nbformat_minor": 5
}
