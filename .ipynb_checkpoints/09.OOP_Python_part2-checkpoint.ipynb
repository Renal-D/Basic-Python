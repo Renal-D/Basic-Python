{
 "cells": [
  {
   "cell_type": "markdown",
   "id": "4ecf9a52-4b62-4292-9631-3acc66018eb1",
   "metadata": {},
   "source": [
    "## Polymorphism\n",
    "konsep di mana suatu objek berbeda-beda dapat di akses melalui satu interface. Sebuah objek polymorphic dapat beradaptasi dengan metode apapun yang di implementasikan pada objek tersebut, dan setiap class memiliki interpretasinya tersendiri terhadap interfacenya."
   ]
  },
  {
   "cell_type": "code",
   "execution_count": 22,
   "id": "1f90282f-b8dc-4bd9-a3ed-e1a604fc911f",
   "metadata": {},
   "outputs": [],
   "source": [
    "class Kadita:\n",
    "    def __init__(self,name):\n",
    "        self.name = name\n",
    "\n",
    "    def respon(self):\n",
    "        return self.name + ' My Domain'\n",
    "        "
   ]
  },
  {
   "cell_type": "code",
   "execution_count": 23,
   "id": "4903b799-80d3-4fc4-8a51-6cb5f21c9647",
   "metadata": {},
   "outputs": [],
   "source": [
    "class Yin:\n",
    "    def __init__(self, name):\n",
    "        self.name = name\n",
    "\n",
    "    def respon(self):\n",
    "        return self.name + ' aku My Domain jugaa!'"
   ]
  },
  {
   "cell_type": "code",
   "execution_count": 24,
   "id": "c2a49631-95e2-4d90-9e7d-340189c5c7e0",
   "metadata": {},
   "outputs": [],
   "source": [
    "karakter1= Kadita('Sound favoritku ' )"
   ]
  },
  {
   "cell_type": "code",
   "execution_count": 25,
   "id": "69f84338-e8ea-486c-a115-170c57c01e3e",
   "metadata": {},
   "outputs": [],
   "source": [
    "karakter2= Yin('Sound favoritku ')"
   ]
  },
  {
   "cell_type": "code",
   "execution_count": 26,
   "id": "0e0dbd0f-5384-4bfd-9cde-bba375db8fad",
   "metadata": {},
   "outputs": [
    {
     "data": {
      "text/plain": [
       "'Sound favoritku  My Domain'"
      ]
     },
     "execution_count": 26,
     "metadata": {},
     "output_type": "execute_result"
    }
   ],
   "source": [
    "karakter1.respon()"
   ]
  },
  {
   "cell_type": "code",
   "execution_count": 27,
   "id": "af321af2-4015-4d8d-9b33-276705aeb9f0",
   "metadata": {},
   "outputs": [
    {
     "data": {
      "text/plain": [
       "'Sound favoritku  aku My Domain jugaa!'"
      ]
     },
     "execution_count": 27,
     "metadata": {},
     "output_type": "execute_result"
    }
   ],
   "source": [
    "karakter2.respon()"
   ]
  },
  {
   "cell_type": "code",
   "execution_count": 28,
   "id": "5af948d2-f615-4e06-9026-228e340d7ae6",
   "metadata": {},
   "outputs": [
    {
     "name": "stdout",
     "output_type": "stream",
     "text": [
      "<class '__main__.Kadita'>\n",
      "Sound favoritku  My Domain\n",
      "<class '__main__.Yin'>\n",
      "Sound favoritku  aku My Domain jugaa!\n"
     ]
    }
   ],
   "source": [
    "for karakter in [karakter1, karakter2]:\n",
    "    print(type(karakter))\n",
    "    print(karakter.respon())"
   ]
  },
  {
   "cell_type": "code",
   "execution_count": 44,
   "id": "58447505-438f-447d-9599-146f5cff8c43",
   "metadata": {},
   "outputs": [],
   "source": [
    "def soundku(hero):\n",
    "    print(hero.respon())"
   ]
  },
  {
   "cell_type": "code",
   "execution_count": 45,
   "id": "ab929d5c-a3d5-4652-a00d-432499f62357",
   "metadata": {},
   "outputs": [
    {
     "name": "stdout",
     "output_type": "stream",
     "text": [
      "Sound favoritku  My Domain\n"
     ]
    }
   ],
   "source": [
    "soundku(karakter1)"
   ]
  },
  {
   "cell_type": "code",
   "execution_count": 46,
   "id": "b5e5ecbb-80d3-477c-84aa-7242dcb53ee3",
   "metadata": {},
   "outputs": [
    {
     "name": "stdout",
     "output_type": "stream",
     "text": [
      "Sound favoritku  aku My Domain jugaa!\n"
     ]
    }
   ],
   "source": [
    "soundku(karakter2)"
   ]
  },
  {
   "cell_type": "markdown",
   "id": "cf7b5b58-6f5b-42ef-9054-8ddfd8fcca73",
   "metadata": {},
   "source": [
    "### Dunder/Magic Methods\n",
    "method-method spesial yang namanya diawali dan diakhiri dengan dobel underscore."
   ]
  },
  {
   "cell_type": "code",
   "execution_count": 94,
   "id": "b595864e-bc51-4abb-8bf0-d538cfecdf36",
   "metadata": {},
   "outputs": [],
   "source": [
    "class Coba:\n",
    "    def __init__(self, name):\n",
    "        self.name = name\n",
    "\n",
    "    def cetak(self):\n",
    "        return self.name"
   ]
  },
  {
   "cell_type": "code",
   "execution_count": 95,
   "id": "8d4ae853-2eaa-4fb2-9bff-ece45597120f",
   "metadata": {},
   "outputs": [],
   "source": [
    "cobaa = Coba('testing')"
   ]
  },
  {
   "cell_type": "code",
   "execution_count": 96,
   "id": "59c9493d-657b-4edb-b875-aab490475548",
   "metadata": {},
   "outputs": [
    {
     "data": {
      "text/plain": [
       "'testing'"
      ]
     },
     "execution_count": 96,
     "metadata": {},
     "output_type": "execute_result"
    }
   ],
   "source": [
    "cobaa.cetak()"
   ]
  },
  {
   "cell_type": "code",
   "execution_count": 98,
   "id": "b8860f82-c718-4546-96fc-202c51da442c",
   "metadata": {},
   "outputs": [
    {
     "name": "stdout",
     "output_type": "stream",
     "text": [
      "['__class__', '__delattr__', '__dict__', '__dir__', '__doc__', '__eq__', '__format__', '__ge__', '__getattribute__', '__getstate__', '__gt__', '__hash__', '__init__', '__init_subclass__', '__le__', '__lt__', '__module__', '__ne__', '__new__', '__reduce__', '__reduce_ex__', '__repr__', '__setattr__', '__sizeof__', '__str__', '__subclasshook__', '__weakref__', 'cetak']\n"
     ]
    }
   ],
   "source": [
    "print(dir(coba))"
   ]
  },
  {
   "cell_type": "code",
   "execution_count": 100,
   "id": "dcb37a0e-765c-4a47-b315-984e24da25c1",
   "metadata": {},
   "outputs": [],
   "source": [
    "class CobaA:\n",
    "    def __init__(self, name, role):\n",
    "        self.name = name\n",
    "        self.role = role\n",
    "\n",
    "    def cetak(self):\n",
    "        return self.name\n",
    "\n",
    "    def __str__(self):\n",
    "        return self.name"
   ]
  },
  {
   "cell_type": "code",
   "execution_count": 101,
   "id": "9dd9a3b6-b771-46c7-9b4c-747147974e7b",
   "metadata": {},
   "outputs": [],
   "source": [
    "Cobaaa = CobaA('Serra', 'Data Scientist')"
   ]
  },
  {
   "cell_type": "code",
   "execution_count": 102,
   "id": "dbb09b9b-14ea-4152-a35a-8820672b2dce",
   "metadata": {},
   "outputs": [
    {
     "data": {
      "text/plain": [
       "'Serra'"
      ]
     },
     "execution_count": 102,
     "metadata": {},
     "output_type": "execute_result"
    }
   ],
   "source": [
    "Cobaaa.__str__()"
   ]
  },
  {
   "cell_type": "code",
   "execution_count": 103,
   "id": "6570f118-d74c-4870-a0c4-24aaa275329f",
   "metadata": {},
   "outputs": [
    {
     "data": {
      "text/plain": [
       "'Serra'"
      ]
     },
     "execution_count": 103,
     "metadata": {},
     "output_type": "execute_result"
    }
   ],
   "source": [
    "str('Serra')"
   ]
  },
  {
   "cell_type": "markdown",
   "id": "2059f9a5-7094-4786-9a3e-e7b8475f879b",
   "metadata": {},
   "source": [
    "### Tantangan OOP"
   ]
  },
  {
   "cell_type": "markdown",
   "id": "9dd155ce-9ddc-47cd-bb57-89671a7675ca",
   "metadata": {},
   "source": [
    "Buatlah sebuah class dengan nama RekeningBank<br>\n",
    "Kemudian class ini memiliki beberapa method seperti mencetak saldo, menabung, menarik uang.<br>\n",
    "Jika rekening kurang, maka akan menunjukkan keterangan bahwa saldo tidak bisa ditarik karena saldo tidak mencukupi "
   ]
  },
  {
   "cell_type": "code",
   "execution_count": 151,
   "id": "c4bab059-2390-4c59-b10f-c4ddf37c6cf6",
   "metadata": {},
   "outputs": [],
   "source": [
    "class RekeningBank:\n",
    "    def __init__(self, saldo_awal= 0):\n",
    "        self.saldo = saldo_awal\n",
    "\n",
    "    def cek_saldo(self):\n",
    "        print(f'Saldo anda sekarang adalah {self.saldo}')\n",
    "\n",
    "    def menabung(self):\n",
    "        tabung = int(input('Ingin menabung berapa '))\n",
    "        if tabung > 0:\n",
    "            self.saldo += tabung\n",
    "            print(f'Saldo berhasil ditambahkan {tabung} dan Saldo anda sekarang {self.saldo}')\n",
    "        else:\n",
    "            print('Saldo yang ditambahkan harus lebih dari 0')\n",
    "\n",
    "    def tarik_tunai(self):\n",
    "        tarik = int(input('Ingin menarik saldo berapa = '))\n",
    "        if tarik > 0:\n",
    "            if tarik <= self.saldo:\n",
    "                self.saldo -= tarik\n",
    "                print(f'Saldo Berhasil ditarik {tarik} dan Sisa Saldo anda {self.saldo}')\n",
    "            else :\n",
    "                print(f'Saldo Tidak Mencukupi. Saldo anda saat ini adalah {self.saldo}') \n",
    "        else :\n",
    "            print('Saldo yang ditarik harus lebih dari 0')"
   ]
  },
  {
   "cell_type": "code",
   "execution_count": 152,
   "id": "4f949679-ab69-418d-888c-d5c2337d7d7b",
   "metadata": {},
   "outputs": [],
   "source": [
    "rekening_saya = RekeningBank(50000)"
   ]
  },
  {
   "cell_type": "code",
   "execution_count": 153,
   "id": "cf43ec38-aa3c-46d1-8d6d-fbb27c58a37d",
   "metadata": {},
   "outputs": [
    {
     "data": {
      "text/plain": [
       "50000"
      ]
     },
     "execution_count": 153,
     "metadata": {},
     "output_type": "execute_result"
    }
   ],
   "source": [
    "rekening_saya.saldo"
   ]
  },
  {
   "cell_type": "code",
   "execution_count": 154,
   "id": "93612591-6492-4a4f-b899-f460207f21cf",
   "metadata": {},
   "outputs": [
    {
     "name": "stdin",
     "output_type": "stream",
     "text": [
      "Ingin menabung berapa  50000\n"
     ]
    },
    {
     "name": "stdout",
     "output_type": "stream",
     "text": [
      "Saldo berhasil ditambahkan 50000 dan Saldo anda sekarang 100000\n"
     ]
    }
   ],
   "source": [
    "rekening_saya.menabung()"
   ]
  },
  {
   "cell_type": "code",
   "execution_count": 155,
   "id": "dd6c825e-5493-492e-9aef-59a7bbe11fe6",
   "metadata": {},
   "outputs": [
    {
     "name": "stdin",
     "output_type": "stream",
     "text": [
      "Ingin menarik saldo berapa =  5000\n"
     ]
    },
    {
     "name": "stdout",
     "output_type": "stream",
     "text": [
      "Saldo Berhasil ditarik 5000 dan Sisa Saldo anda 95000\n"
     ]
    }
   ],
   "source": [
    "rekening_saya.tarik_tunai()"
   ]
  },
  {
   "cell_type": "code",
   "execution_count": 156,
   "id": "a2ac5c76-8371-43b0-bb8a-4d2ccadabfb1",
   "metadata": {},
   "outputs": [
    {
     "name": "stdout",
     "output_type": "stream",
     "text": [
      "Saldo anda sekarang adalah 95000\n"
     ]
    }
   ],
   "source": [
    "rekening_saya.cek_saldo()"
   ]
  },
  {
   "cell_type": "code",
   "execution_count": 157,
   "id": "e0895f05-fd42-4ca4-aa09-f0b9a4d8bd67",
   "metadata": {},
   "outputs": [
    {
     "name": "stdin",
     "output_type": "stream",
     "text": [
      "Ingin menabung berapa  0\n"
     ]
    },
    {
     "name": "stdout",
     "output_type": "stream",
     "text": [
      "Saldo yang ditambahkan harus lebih dari 0\n"
     ]
    }
   ],
   "source": [
    "rekening_saya.menabung()"
   ]
  },
  {
   "cell_type": "code",
   "execution_count": 158,
   "id": "c7410b80-e289-4948-86c8-bb3ee6833516",
   "metadata": {},
   "outputs": [
    {
     "name": "stdin",
     "output_type": "stream",
     "text": [
      "Ingin menarik saldo berapa =  100000\n"
     ]
    },
    {
     "name": "stdout",
     "output_type": "stream",
     "text": [
      "Saldo Tidak Mencukupi. Saldo anda saat ini adalah 95000\n"
     ]
    }
   ],
   "source": [
    "rekening_saya.tarik_tunai()"
   ]
  },
  {
   "cell_type": "code",
   "execution_count": null,
   "id": "842343b3-32e8-42ca-997a-d2e978261c7e",
   "metadata": {},
   "outputs": [],
   "source": []
  }
 ],
 "metadata": {
  "kernelspec": {
   "display_name": "Python 3 (ipykernel)",
   "language": "python",
   "name": "python3"
  },
  "language_info": {
   "codemirror_mode": {
    "name": "ipython",
    "version": 3
   },
   "file_extension": ".py",
   "mimetype": "text/x-python",
   "name": "python",
   "nbconvert_exporter": "python",
   "pygments_lexer": "ipython3",
   "version": "3.12.0"
  }
 },
 "nbformat": 4,
 "nbformat_minor": 5
}
