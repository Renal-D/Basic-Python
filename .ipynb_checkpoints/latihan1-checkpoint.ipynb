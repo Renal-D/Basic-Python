{
 "cells": [
  {
   "cell_type": "markdown",
   "id": "e7123ec0-e47d-4004-9c2a-1716a5581b74",
   "metadata": {},
   "source": [
    "Menjalankan SCript"
   ]
  },
  {
   "cell_type": "code",
   "execution_count": 1,
   "id": "f870f298-94d5-4c17-9ef9-39cf895cc479",
   "metadata": {},
   "outputs": [
    {
     "name": "stdout",
     "output_type": "stream",
     "text": [
      "Renaldi Dwi Saputra\n",
      "Renaldi Dwi Saputra\n",
      "Renaldi Dwi Saputra\n",
      "Renaldi Dwi Saputra\n",
      "Renaldi Dwi Saputra\n",
      "Renaldi Dwi Saputra\n",
      "Renaldi Dwi Saputra\n",
      "Renaldi Dwi Saputra\n",
      "Renaldi Dwi Saputra\n",
      "Renaldi Dwi Saputra\n"
     ]
    }
   ],
   "source": [
    "for i in range(0,10):\n",
    "    print('Renaldi Dwi Saputra')"
   ]
  },
  {
   "cell_type": "code",
   "execution_count": null,
   "id": "e572bd9a-ec0b-4f07-b072-419de3d7011d",
   "metadata": {},
   "outputs": [],
   "source": []
  }
 ],
 "metadata": {
  "kernelspec": {
   "display_name": "Python 3 (ipykernel)",
   "language": "python",
   "name": "python3"
  },
  "language_info": {
   "codemirror_mode": {
    "name": "ipython",
    "version": 3
   },
   "file_extension": ".py",
   "mimetype": "text/x-python",
   "name": "python",
   "nbconvert_exporter": "python",
   "pygments_lexer": "ipython3",
   "version": "3.11.2"
  }
 },
 "nbformat": 4,
 "nbformat_minor": 5
}
