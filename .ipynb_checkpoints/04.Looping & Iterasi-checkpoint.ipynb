{
 "cells": [
  {
   "cell_type": "markdown",
   "id": "f303792f-c1a5-47e9-891d-d4f6b969ec4b",
   "metadata": {},
   "source": [
    "## FOR LOOP"
   ]
  },
  {
   "cell_type": "markdown",
   "id": "d3cc966a-1a3b-4f37-86ab-f72d486b0b20",
   "metadata": {},
   "source": [
    "Digunakan untuk melakukan iterasi (itterable)"
   ]
  },
  {
   "cell_type": "code",
   "execution_count": 4,
   "id": "a982a81e-e578-4e1b-87e5-aa222742c2d9",
   "metadata": {},
   "outputs": [
    {
     "name": "stdout",
     "output_type": "stream",
     "text": [
      "S\n",
      "a\n",
      "y\n",
      "a\n",
      " \n",
      "s\n",
      "u\n",
      "k\n",
      "a\n",
      " \n",
      "k\n",
      "a\n",
      "m\n",
      "u\n"
     ]
    }
   ],
   "source": [
    "for i in 'Saya suka kamu':\n",
    "    print(i)"
   ]
  },
  {
   "cell_type": "code",
   "execution_count": 5,
   "id": "79e8a285-9175-45e5-88e9-d35ec7b3744e",
   "metadata": {},
   "outputs": [
    {
     "name": "stdout",
     "output_type": "stream",
     "text": [
      "Saya tidak suka kamu"
     ]
    }
   ],
   "source": [
    "for i in 'Saya tidak suka kamu':\n",
    "    print(i, end='')"
   ]
  },
  {
   "cell_type": "code",
   "execution_count": 6,
   "id": "65656d5e-778c-46fa-b113-36d177ab9914",
   "metadata": {},
   "outputs": [],
   "source": [
    "bilangan = [1,2,3,4,5,6,7,8,9]"
   ]
  },
  {
   "cell_type": "code",
   "execution_count": 28,
   "id": "a7393db6-53ce-4669-93e9-b1a8d1988805",
   "metadata": {},
   "outputs": [
    {
     "name": "stdout",
     "output_type": "stream",
     "text": [
      "1\n",
      "2\n",
      "3\n",
      "4\n",
      "5\n",
      "6\n",
      "7\n",
      "8\n",
      "9\n"
     ]
    }
   ],
   "source": [
    "for ini in bilangan:\n",
    "    print(ini)"
   ]
  },
  {
   "cell_type": "code",
   "execution_count": 29,
   "id": "009e0fbd-24dd-4662-8389-b6fa60cb9c15",
   "metadata": {},
   "outputs": [],
   "source": [
    "jumlah = 0"
   ]
  },
  {
   "cell_type": "code",
   "execution_count": 31,
   "id": "048686ba-bb41-4c50-af15-e9b7d1e944b9",
   "metadata": {},
   "outputs": [
    {
     "name": "stdout",
     "output_type": "stream",
     "text": [
      "hasil perjumlahan iterasi ke 1 adalah 82\n",
      "hasil perjumlahan iterasi ke 2 adalah 84\n",
      "hasil perjumlahan iterasi ke 3 adalah 87\n",
      "hasil perjumlahan iterasi ke 4 adalah 91\n",
      "hasil perjumlahan iterasi ke 5 adalah 96\n",
      "hasil perjumlahan iterasi ke 6 adalah 102\n",
      "hasil perjumlahan iterasi ke 7 adalah 109\n",
      "hasil perjumlahan iterasi ke 8 adalah 117\n",
      "hasil perjumlahan iterasi ke 9 adalah 126\n"
     ]
    }
   ],
   "source": [
    "for ini in bilangan:\n",
    "    jumlah = jumlah + ini\n",
    "    print('hasil perjumlahan iterasi ke {} adalah {}'.format(ini, jumlah))"
   ]
  },
  {
   "cell_type": "code",
   "execution_count": 32,
   "id": "9e1fecc1-71b2-4ddc-bd85-ef4306f5cab1",
   "metadata": {},
   "outputs": [
    {
     "name": "stdout",
     "output_type": "stream",
     "text": [
      "hasil perjumlahan total adalah 171\n"
     ]
    }
   ],
   "source": [
    "for ini in bilangan:\n",
    "    jumlah = jumlah + ini\n",
    "print('hasil perjumlahan total adalah',jumlah)"
   ]
  },
  {
   "cell_type": "markdown",
   "id": "872ed3f7-dd32-43ad-b9b2-e6a56dadcf7c",
   "metadata": {},
   "source": [
    "## Pengunaan Looping dan Conditional"
   ]
  },
  {
   "cell_type": "code",
   "execution_count": 43,
   "id": "bef1287c-1844-44e1-85f8-d1d554e8c077",
   "metadata": {},
   "outputs": [
    {
     "name": "stdout",
     "output_type": "stream",
     "text": [
      "Selamat kamu berada di huruf \"A\" 2\n",
      "Selamat kamu berada di huruf \"A\" 4\n",
      "Selamat kamu berada di huruf \"A\" 9\n",
      "Selamat kamu berada di huruf \"A\" 11\n"
     ]
    }
   ],
   "source": [
    "jumlah = 0 \n",
    "for item in 'Saya Belajar Python':\n",
    "    jumlah += 1\n",
    "    if (item == 'a'):\n",
    "        print('Selamat kamu berada di huruf \"A\"', jumlah)"
   ]
  },
  {
   "cell_type": "markdown",
   "id": "6b78c595-485b-4374-81c6-f0b85ed3d306",
   "metadata": {},
   "source": [
    "## Tantangan "
   ]
  },
  {
   "cell_type": "markdown",
   "id": "b7f71b06-4c09-46a7-af1c-9bfe0cf2ec5f",
   "metadata": {},
   "source": [
    "angka = [1,2,3,4,5,6,7,8,9,10]\n",
    "lakukan iterasi list angka kemudian cetak apakah dia ganjil atau genap "
   ]
  },
  {
   "cell_type": "code",
   "execution_count": 50,
   "id": "933184fc-f635-4176-b37a-53bbde584b68",
   "metadata": {},
   "outputs": [
    {
     "name": "stdout",
     "output_type": "stream",
     "text": [
      "angka 1 adalah ganjil\n",
      "angka 2 adalah genap\n",
      "angka 3 adalah ganjil\n",
      "angka 4 adalah genap\n",
      "angka 5 adalah ganjil\n",
      "angka 6 adalah genap\n",
      "angka 7 adalah ganjil\n",
      "angka 8 adalah genap\n",
      "angka 9 adalah ganjil\n",
      "angka 10 adalah genap\n"
     ]
    }
   ],
   "source": [
    "for angka in [1,2,3,4,5,6,7,8,9,10]: \n",
    "    if (angka%2):\n",
    "        print('angka {} adalah ganjil'.format(angka))\n",
    "    else:\n",
    "        print('angka {} adalah genap'.format(angka))\n",
    "        "
   ]
  },
  {
   "cell_type": "code",
   "execution_count": 54,
   "id": "7abf95d0-6d85-4c70-a344-2a036daa4a5c",
   "metadata": {},
   "outputs": [
    {
     "name": "stdout",
     "output_type": "stream",
     "text": [
      "angka 1 adalah ganjil\n",
      "angka 2 adalah genap\n",
      "angka 3 adalah ganjil\n",
      "angka 4 adalah genap\n",
      "angka 5 adalah ganjil\n",
      "angka 6 adalah genap\n",
      "angka 7 adalah ganjil\n",
      "angka 8 adalah genap\n",
      "angka 9 adalah ganjil\n",
      "angka 10 adalah genap\n"
     ]
    }
   ],
   "source": [
    "for angka in [1,2,3,4,5,6,7,8,9,10]: \n",
    "    if (angka%2 == 0):\n",
    "        print('angka', angka, 'adalah genap')\n",
    "    else:\n",
    "        print('angka', angka, 'adalah ganjil')"
   ]
  },
  {
   "cell_type": "markdown",
   "id": "af72b6ff-9424-42b1-95f8-87f7edb939b5",
   "metadata": {},
   "source": [
    "## For Loop dengan Tuple dan List Multiple Items "
   ]
  },
  {
   "cell_type": "code",
   "execution_count": 56,
   "id": "ed107231-ca9a-43f8-a872-5ca9babe13e6",
   "metadata": {},
   "outputs": [],
   "source": [
    "con1 = ((1,2),(3,4),(5,6))"
   ]
  },
  {
   "cell_type": "code",
   "execution_count": 57,
   "id": "de3111c5-570b-451e-8a46-c288659a729a",
   "metadata": {},
   "outputs": [
    {
     "name": "stdout",
     "output_type": "stream",
     "text": [
      "(1, 2)\n",
      "(3, 4)\n",
      "(5, 6)\n"
     ]
    }
   ],
   "source": [
    "for item in con1:\n",
    "    print(item)"
   ]
  },
  {
   "cell_type": "code",
   "execution_count": 59,
   "id": "fca43b53-75e8-44df-ad38-61ac05e6a84c",
   "metadata": {},
   "outputs": [
    {
     "name": "stdout",
     "output_type": "stream",
     "text": [
      "1\n",
      "2\n",
      "3\n",
      "4\n",
      "5\n",
      "6\n"
     ]
    }
   ],
   "source": [
    "for a,b in con1:\n",
    "    print(a)\n",
    "    print(b)"
   ]
  },
  {
   "cell_type": "code",
   "execution_count": 60,
   "id": "2cfc9cc0-d16b-4cad-b398-c237cf2aa8d3",
   "metadata": {},
   "outputs": [],
   "source": [
    "con2 = [[1,2],[3,4],[5,6]]"
   ]
  },
  {
   "cell_type": "code",
   "execution_count": 61,
   "id": "80ff44dc-608f-4113-b27e-bf78867b9021",
   "metadata": {},
   "outputs": [
    {
     "name": "stdout",
     "output_type": "stream",
     "text": [
      "1\n",
      "2\n",
      "3\n",
      "4\n",
      "5\n",
      "6\n"
     ]
    }
   ],
   "source": [
    "for a,b in con2:\n",
    "    print(a)\n",
    "    print(b)"
   ]
  },
  {
   "cell_type": "code",
   "execution_count": 62,
   "id": "a574a2fb-76bc-412c-941c-21f543a87a68",
   "metadata": {},
   "outputs": [],
   "source": [
    "con3 = [[1,2,'a'],[3,4,'b'],[5,6,'c']]"
   ]
  },
  {
   "cell_type": "code",
   "execution_count": 66,
   "id": "bd5d4c4b-ae00-449a-ab16-1cad593a9996",
   "metadata": {},
   "outputs": [
    {
     "name": "stdout",
     "output_type": "stream",
     "text": [
      "1\n",
      "2\n",
      "a\n",
      "3\n",
      "4\n",
      "b\n",
      "5\n",
      "6\n",
      "c\n"
     ]
    }
   ],
   "source": [
    "for a,b,c in con3:\n",
    "    print(a)\n",
    "    print(b)\n",
    "    print(c)"
   ]
  },
  {
   "cell_type": "markdown",
   "id": "3a100921-0a9a-445b-a96e-f9e1c18ded97",
   "metadata": {},
   "source": [
    "## WHILE LOOP"
   ]
  },
  {
   "cell_type": "markdown",
   "id": "6b483cc0-6f1f-4232-b770-8f95b82d7503",
   "metadata": {},
   "source": [
    "ada 3 argumen yang bisa digunakan:\n",
    "1. break = menghentikan looping\n",
    "2. continue = melanjutkan looping ke iterator selanjutnya dan melewati iterator saat ini\n",
    "3. pass = tidak melakukan apa apa"
   ]
  },
  {
   "cell_type": "markdown",
   "id": "c394ea5e-68dd-4f83-9e38-d57b6950dcba",
   "metadata": {},
   "source": [
    "While (sebuah kondisi == True) :\n",
    "    .eksekusi"
   ]
  },
  {
   "cell_type": "code",
   "execution_count": 67,
   "id": "9f7e2cb2-fc84-471a-ae3d-2b2786083064",
   "metadata": {},
   "outputs": [
    {
     "name": "stdout",
     "output_type": "stream",
     "text": [
      "Saya berhasil\n",
      "Saya berhasil\n",
      "Saya berhasil\n",
      "Saya berhasil\n",
      "Saya berhasil\n",
      "Saya berhasil\n",
      "Saya berhasil\n",
      "Saya berhasil\n",
      "Saya berhasil\n",
      "Saya berhasil\n"
     ]
    }
   ],
   "source": [
    "index = 0\n",
    "while True:\n",
    "    print('Saya berhasil')\n",
    "    index += 1\n",
    "    if index == 10:\n",
    "        break"
   ]
  },
  {
   "cell_type": "code",
   "execution_count": 79,
   "id": "09e1f7cc-9a9b-4bbe-b444-6d56fed23bbc",
   "metadata": {},
   "outputs": [],
   "source": [
    "x = 0"
   ]
  },
  {
   "cell_type": "code",
   "execution_count": 80,
   "id": "a35ccdc3-0f23-42d4-aa06-7a243eab399c",
   "metadata": {},
   "outputs": [
    {
     "name": "stdout",
     "output_type": "stream",
     "text": [
      "Bilangan saat ini:  0\n",
      "Bilangan saat ini:  5\n",
      "Bilangan saat ini:  10\n",
      "Bilangan saat ini:  15\n",
      "Bilangan saat ini:  20\n",
      "Bilangan saat ini:  25\n",
      "Bilangan saat ini:  30\n",
      "Bilangan saat ini:  35\n",
      "Bilangan saat ini:  40\n",
      "Bilangan saat ini:  45\n"
     ]
    }
   ],
   "source": [
    "while x < 50:\n",
    "    print ('Bilangan saat ini: ', x)\n",
    "    x += 5"
   ]
  },
  {
   "cell_type": "code",
   "execution_count": 81,
   "id": "75d3712c-99f3-44c5-8298-5fbd904e351f",
   "metadata": {},
   "outputs": [],
   "source": [
    "angka = [1,2,3,4,5,6,7,8,9,10,20]"
   ]
  },
  {
   "cell_type": "code",
   "execution_count": 88,
   "id": "c507c76b-146c-4465-8609-e999684fec14",
   "metadata": {},
   "outputs": [
    {
     "name": "stdout",
     "output_type": "stream",
     "text": [
      "ini angka ganjil=  1\n",
      "ini angka ganjil=  3\n",
      "ini angka ganjil=  5\n",
      "ini angka ganjil=  7\n",
      "ini angka ganjil=  9\n"
     ]
    }
   ],
   "source": [
    "for ini in angka:\n",
    "    if ini%2 == 0:\n",
    "        continue\n",
    "    else: \n",
    "        print('ini angka ganjil= ', ini)"
   ]
  },
  {
   "cell_type": "code",
   "execution_count": 94,
   "id": "2c28ab82-ada8-4178-9d9e-b90e66a90269",
   "metadata": {},
   "outputs": [
    {
     "name": "stdout",
     "output_type": "stream",
     "text": [
      "Sy muli menyuki Python"
     ]
    }
   ],
   "source": [
    "for i in 'Saya mulai menyukai Python':\n",
    "    if i == 'a': \n",
    "        pass\n",
    "    else:\n",
    "        print(i, end='')"
   ]
  },
  {
   "cell_type": "markdown",
   "id": "495db526-bc34-478f-b337-7e445f12fae1",
   "metadata": {},
   "source": [
    "# FOR LOOP (ADVANCED)"
   ]
  },
  {
   "cell_type": "markdown",
   "id": "7ce24637-4a9b-4baf-9550-9994c74e5c5f",
   "metadata": {},
   "source": [
    "## Range"
   ]
  },
  {
   "cell_type": "code",
   "execution_count": 96,
   "id": "afdb9c00-1072-4d72-976c-6e8e0f03d268",
   "metadata": {},
   "outputs": [
    {
     "name": "stdout",
     "output_type": "stream",
     "text": [
      "0\n",
      "2\n",
      "4\n",
      "6\n",
      "8\n",
      "10\n"
     ]
    }
   ],
   "source": [
    "for angka in range(0,11,2): #2 adalah angka lompat 2\n",
    "    print(angka)"
   ]
  },
  {
   "cell_type": "code",
   "execution_count": 97,
   "id": "7078bff3-93bc-4912-9ec7-1819084fe49e",
   "metadata": {},
   "outputs": [
    {
     "data": {
      "text/plain": [
       "[1, 2, 3, 4, 5, 6, 7, 8, 9, 10]"
      ]
     },
     "execution_count": 97,
     "metadata": {},
     "output_type": "execute_result"
    }
   ],
   "source": [
    "angka = [1,2,3,4,5,6,7,8,9,10]\n",
    "angka"
   ]
  },
  {
   "cell_type": "code",
   "execution_count": 99,
   "id": "45a57051-e203-4112-b500-0a174050d1e1",
   "metadata": {},
   "outputs": [
    {
     "data": {
      "text/plain": [
       "[1, 2, 3, 4, 5, 6, 7, 8, 9, 10]"
      ]
     },
     "execution_count": 99,
     "metadata": {},
     "output_type": "execute_result"
    }
   ],
   "source": [
    "angka = list(range(1,11))\n",
    "angka"
   ]
  },
  {
   "cell_type": "markdown",
   "id": "6601bfe7-cdf2-49de-b675-01ef64ac6b25",
   "metadata": {},
   "source": [
    "## Enumerate"
   ]
  },
  {
   "cell_type": "code",
   "execution_count": 104,
   "id": "acd31a89-9826-4b11-b329-4e02f0b494c3",
   "metadata": {},
   "outputs": [],
   "source": [
    "indeks = 0 "
   ]
  },
  {
   "cell_type": "code",
   "execution_count": 105,
   "id": "b17460ee-0652-4c17-a674-79e041a82d60",
   "metadata": {},
   "outputs": [
    {
     "name": "stdout",
     "output_type": "stream",
     "text": [
      "karakter a berada pada baris ke 0\n",
      "karakter b berada pada baris ke 1\n",
      "karakter c berada pada baris ke 2\n",
      "karakter d berada pada baris ke 3\n",
      "karakter e berada pada baris ke 4\n",
      "karakter f berada pada baris ke 5\n",
      "karakter g berada pada baris ke 6\n",
      "karakter h berada pada baris ke 7\n",
      "karakter i berada pada baris ke 8\n",
      "karakter j berada pada baris ke 9\n"
     ]
    }
   ],
   "source": [
    "for item in 'abcdefghij':\n",
    "    print('karakter {} berada pada baris ke {}'.format(item,indeks))\n",
    "    indeks += 1"
   ]
  },
  {
   "cell_type": "code",
   "execution_count": 107,
   "id": "0fc34a64-e22a-4a9b-b4fc-e99ae871c888",
   "metadata": {},
   "outputs": [
    {
     "name": "stdout",
     "output_type": "stream",
     "text": [
      "(0, 'a')\n",
      "(1, 'b')\n",
      "(2, 'c')\n",
      "(3, 'd')\n",
      "(4, 'e')\n",
      "(5, 'f')\n",
      "(6, 'g')\n",
      "(7, 'h')\n",
      "(8, 'i')\n",
      "(9, 'j')\n"
     ]
    }
   ],
   "source": [
    "kata = 'abcdefghij'\n",
    "for item in enumerate(kata):\n",
    "    print(item) #hasil enumerate adalah tuple"
   ]
  },
  {
   "cell_type": "code",
   "execution_count": 109,
   "id": "de2cf7bc-6d84-4b95-a881-f5f1106d704e",
   "metadata": {},
   "outputs": [
    {
     "name": "stdout",
     "output_type": "stream",
     "text": [
      "0\n",
      "a\n",
      "1\n",
      "b\n",
      "2\n",
      "c\n",
      "3\n",
      "d\n",
      "4\n",
      "e\n",
      "5\n",
      "f\n",
      "6\n",
      "g\n",
      "7\n",
      "h\n",
      "8\n",
      "i\n",
      "9\n",
      "j\n"
     ]
    }
   ],
   "source": [
    "for a,b in enumerate(kata):\n",
    "    print(a)\n",
    "    print(b)"
   ]
  },
  {
   "cell_type": "markdown",
   "id": "a9f37d6a-d3ad-4269-b614-a2bcc95f8c0e",
   "metadata": {},
   "source": [
    "## ZIP\n",
    "dapat menggabungkan 1/lebih list dan HASILNYA ADALAH TUPLE"
   ]
  },
  {
   "cell_type": "code",
   "execution_count": 123,
   "id": "2732e8a3-df87-4dd9-8cc4-34292464fa13",
   "metadata": {},
   "outputs": [],
   "source": [
    "list1 = [1,2,3,4,5,6,7,8,9,10]\n",
    "list2 = ['a','b','c','d','e','f','g','h','i','j']\n",
    "list3 = [9,8,7,6,5,4,3,2,1,0]"
   ]
  },
  {
   "cell_type": "code",
   "execution_count": 124,
   "id": "adbb718c-d7a0-4bba-8f4a-ff1ae6a24b38",
   "metadata": {},
   "outputs": [
    {
     "name": "stdout",
     "output_type": "stream",
     "text": [
      "(1, 'a', 9)\n",
      "(2, 'b', 8)\n",
      "(3, 'c', 7)\n",
      "(4, 'd', 6)\n",
      "(5, 'e', 5)\n",
      "(6, 'f', 4)\n",
      "(7, 'g', 3)\n",
      "(8, 'h', 2)\n",
      "(9, 'i', 1)\n",
      "(10, 'j', 0)\n"
     ]
    }
   ],
   "source": [
    "for item in zip(list1,list2,list3):\n",
    "    print(item)"
   ]
  },
  {
   "cell_type": "code",
   "execution_count": 125,
   "id": "1ceea065-84a0-444e-bd29-00a6b29ce086",
   "metadata": {},
   "outputs": [],
   "source": [
    "list1 = [1,2,3,4,5,6]\n",
    "list2 = ['a','b','c','d','e']"
   ]
  },
  {
   "cell_type": "code",
   "execution_count": 126,
   "id": "58cdd6b0-d272-4537-9dba-5191334f1fb2",
   "metadata": {},
   "outputs": [
    {
     "name": "stdout",
     "output_type": "stream",
     "text": [
      "(1, 'a')\n",
      "(2, 'b')\n",
      "(3, 'c')\n",
      "(4, 'd')\n",
      "(5, 'e')\n"
     ]
    }
   ],
   "source": [
    "for item in zip(list1, list2):\n",
    "    print(item)"
   ]
  },
  {
   "cell_type": "code",
   "execution_count": 127,
   "id": "b75ca465-a1ab-4bdf-bd8d-6aeb99f54dda",
   "metadata": {},
   "outputs": [
    {
     "data": {
      "text/plain": [
       "[(1, 9), (2, 8), (3, 7), (4, 6), (5, 5), (6, 4)]"
      ]
     },
     "execution_count": 127,
     "metadata": {},
     "output_type": "execute_result"
    }
   ],
   "source": [
    "list(zip(list1,list3))"
   ]
  },
  {
   "cell_type": "markdown",
   "id": "864df50c-47aa-447a-9181-ba1ee2c4e20c",
   "metadata": {},
   "source": [
    "## Item Checking\n",
    "bisa buat berbagai macam tipe data TERMASUK DICTIONARY"
   ]
  },
  {
   "cell_type": "code",
   "execution_count": 131,
   "id": "f04beaa7-9f9e-4783-8dc4-328376c8b031",
   "metadata": {},
   "outputs": [
    {
     "data": {
      "text/plain": [
       "'aku belajar'"
      ]
     },
     "execution_count": 131,
     "metadata": {},
     "output_type": "execute_result"
    }
   ],
   "source": [
    "'aku belajar'"
   ]
  },
  {
   "cell_type": "code",
   "execution_count": 132,
   "id": "b2cc7442-5bff-4036-af54-baa8f22c6fb0",
   "metadata": {},
   "outputs": [
    {
     "data": {
      "text/plain": [
       "True"
      ]
     },
     "execution_count": 132,
     "metadata": {},
     "output_type": "execute_result"
    }
   ],
   "source": [
    "'k' in 'aku belajar'"
   ]
  },
  {
   "cell_type": "code",
   "execution_count": 133,
   "id": "ec1fc0d8-413b-4643-80e8-7e172f9235fc",
   "metadata": {},
   "outputs": [
    {
     "data": {
      "text/plain": [
       "False"
      ]
     },
     "execution_count": 133,
     "metadata": {},
     "output_type": "execute_result"
    }
   ],
   "source": [
    "'k' in 'python'"
   ]
  },
  {
   "cell_type": "code",
   "execution_count": 138,
   "id": "0f002eed-ad0b-4012-82cf-914ea7920768",
   "metadata": {},
   "outputs": [],
   "source": [
    "dic1 = {'a':'serra','b':'sora','c':'paijo'}"
   ]
  },
  {
   "cell_type": "code",
   "execution_count": 144,
   "id": "9b1b5cf2-1de6-4c1b-8646-86734e948e43",
   "metadata": {},
   "outputs": [
    {
     "data": {
      "text/plain": [
       "True"
      ]
     },
     "execution_count": 144,
     "metadata": {},
     "output_type": "execute_result"
    }
   ],
   "source": [
    "'a' in dic1"
   ]
  },
  {
   "cell_type": "code",
   "execution_count": 145,
   "id": "485b2706-b50f-49a5-bab1-f861bae234be",
   "metadata": {},
   "outputs": [
    {
     "data": {
      "text/plain": [
       "False"
      ]
     },
     "execution_count": 145,
     "metadata": {},
     "output_type": "execute_result"
    }
   ],
   "source": [
    "'serra' in dic1"
   ]
  },
  {
   "cell_type": "code",
   "execution_count": 146,
   "id": "ab249d1a-f092-4538-b771-cbd2c852d0ba",
   "metadata": {},
   "outputs": [
    {
     "data": {
      "text/plain": [
       "True"
      ]
     },
     "execution_count": 146,
     "metadata": {},
     "output_type": "execute_result"
    }
   ],
   "source": [
    "'serra' in dic1.values()"
   ]
  },
  {
   "cell_type": "markdown",
   "id": "0f2aa073-b00a-4808-a60d-bfe18a9507a4",
   "metadata": {},
   "source": [
    "## Advanced For Loops"
   ]
  },
  {
   "cell_type": "code",
   "execution_count": 149,
   "id": "7124f74a-e91f-4ff9-87e8-864ccf20a6c8",
   "metadata": {},
   "outputs": [],
   "source": [
    "data = list(range(1,11))"
   ]
  },
  {
   "cell_type": "code",
   "execution_count": 150,
   "id": "9d28137d-e19a-4af3-9431-5f97c29006f6",
   "metadata": {},
   "outputs": [
    {
     "data": {
      "text/plain": [
       "[1, 2, 3, 4, 5, 6, 7, 8, 9, 10]"
      ]
     },
     "execution_count": 150,
     "metadata": {},
     "output_type": "execute_result"
    }
   ],
   "source": [
    "data"
   ]
  },
  {
   "cell_type": "code",
   "execution_count": 156,
   "id": "d8ad9566-9f3a-46ca-b20b-1b1c313fd919",
   "metadata": {},
   "outputs": [
    {
     "data": {
      "text/plain": [
       "[1, 2, 3, 4, 5, 6, 7, 8, 9, 10]"
      ]
     },
     "execution_count": 156,
     "metadata": {},
     "output_type": "execute_result"
    }
   ],
   "source": [
    "data2 = list()\n",
    "for item in range(1,11):\n",
    "    data2.append(item)\n",
    "data2"
   ]
  },
  {
   "cell_type": "code",
   "execution_count": 157,
   "id": "ced66604-cb9c-4b16-abb4-2120ad272008",
   "metadata": {},
   "outputs": [
    {
     "data": {
      "text/plain": [
       "[1, 2, 3, 4, 5, 6, 7, 8, 9, 10]"
      ]
     },
     "execution_count": 157,
     "metadata": {},
     "output_type": "execute_result"
    }
   ],
   "source": [
    "data3 = [item for item in range (1,11)]\n",
    "data3"
   ]
  },
  {
   "cell_type": "code",
   "execution_count": 158,
   "id": "8613e124-dc52-4714-a4c1-07d301e3a80b",
   "metadata": {},
   "outputs": [
    {
     "data": {
      "text/plain": [
       "[1, 4, 9, 16, 25, 36, 49, 64, 81, 100]"
      ]
     },
     "execution_count": 158,
     "metadata": {},
     "output_type": "execute_result"
    }
   ],
   "source": [
    "data4 = [item**2 for item in range(1,11)]\n",
    "data4"
   ]
  },
  {
   "cell_type": "code",
   "execution_count": 161,
   "id": "2a31854a-2a98-4781-b874-59848593f6e1",
   "metadata": {},
   "outputs": [
    {
     "data": {
      "text/plain": [
       "[5.2, 5.8, 6.8, 8.2, 10.0, 12.2, 14.8, 17.8, 21.2, 25.0]"
      ]
     },
     "execution_count": 161,
     "metadata": {},
     "output_type": "execute_result"
    }
   ],
   "source": [
    "data5 = [(item**2)/5+5 for item in range(1,11)]\n",
    "data5"
   ]
  },
  {
   "cell_type": "code",
   "execution_count": 163,
   "id": "b515cb34-65bb-4dfb-b4e1-6fd3de9f75af",
   "metadata": {},
   "outputs": [
    {
     "data": {
      "text/plain": [
       "[2, 4, 6, 8, 10]"
      ]
     },
     "execution_count": 163,
     "metadata": {},
     "output_type": "execute_result"
    }
   ],
   "source": [
    "data6 = [item for item in range (1,11) if item%2 == 0]\n",
    "data6"
   ]
  },
  {
   "cell_type": "code",
   "execution_count": 168,
   "id": "b2a8eeea-8f09-4a46-9d93-b09c730f3602",
   "metadata": {},
   "outputs": [
    {
     "data": {
      "text/plain": [
       "['bilangan ganjil',\n",
       " 2,\n",
       " 'bilangan ganjil',\n",
       " 4,\n",
       " 'bilangan ganjil',\n",
       " 6,\n",
       " 'bilangan ganjil',\n",
       " 8,\n",
       " 'bilangan ganjil',\n",
       " 10]"
      ]
     },
     "execution_count": 168,
     "metadata": {},
     "output_type": "execute_result"
    }
   ],
   "source": [
    "data7 = [item if item%2 == 0 else 'bilangan ganjil' for item in range (1,11)]\n",
    "data7"
   ]
  },
  {
   "cell_type": "code",
   "execution_count": 182,
   "id": "68305623-ea6b-44e1-b5d9-2a2dddc58618",
   "metadata": {},
   "outputs": [
    {
     "data": {
      "text/plain": [
       "['bilangan ganjil',\n",
       " 2,\n",
       " 'bilangan ganjil',\n",
       " 4,\n",
       " 'bilangan ganjil',\n",
       " 6,\n",
       " 'bilangan ganjil',\n",
       " 8,\n",
       " 'bilangan ganjil',\n",
       " 10]"
      ]
     },
     "execution_count": 182,
     "metadata": {},
     "output_type": "execute_result"
    }
   ],
   "source": [
    "data8 = []\n",
    "for item in range(1,11):\n",
    "    if item%2 == 0:\n",
    "        data8.append(item)\n",
    "    else:\n",
    "        data8.append('bilangan ganjil')\n",
    "data8"
   ]
  },
  {
   "cell_type": "code",
   "execution_count": null,
   "id": "0193a16f-e575-4c72-b861-e7626129ba1a",
   "metadata": {},
   "outputs": [],
   "source": []
  }
 ],
 "metadata": {
  "kernelspec": {
   "display_name": "Python 3 (ipykernel)",
   "language": "python",
   "name": "python3"
  },
  "language_info": {
   "codemirror_mode": {
    "name": "ipython",
    "version": 3
   },
   "file_extension": ".py",
   "mimetype": "text/x-python",
   "name": "python",
   "nbconvert_exporter": "python",
   "pygments_lexer": "ipython3",
   "version": "3.12.0"
  }
 },
 "nbformat": 4,
 "nbformat_minor": 5
}
