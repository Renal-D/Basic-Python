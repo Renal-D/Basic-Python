{
 "cells": [
  {
   "cell_type": "markdown",
   "id": "c79dde0d-1555-47c0-89e3-781e3297e5ff",
   "metadata": {},
   "source": [
    "### Object Oriented Programming\n",
    "Semua di Python adalah object seperti list, string, dict, float, tuple dll<br>\n",
    "**_di Pyhton, object disebut Class_**"
   ]
  },
  {
   "cell_type": "code",
   "execution_count": 2,
   "id": "b5e9b37d-61fb-4cfe-9df7-d7d2db43bb74",
   "metadata": {},
   "outputs": [
    {
     "name": "stdout",
     "output_type": "stream",
     "text": [
      "<class 'list'>\n",
      "<class 'dict'>\n",
      "<class 'str'>\n",
      "<class 'int'>\n",
      "<class 'float'>\n",
      "<class 'tuple'>\n",
      "<class 'bool'>\n",
      "<class 'NoneType'>\n"
     ]
    }
   ],
   "source": [
    "print(type([]))\n",
    "print(type({}))\n",
    "print(type('Aku adalah Putra Sang Fajar'))\n",
    "print(type(22))\n",
    "print(type(3.14))\n",
    "print(type(()))\n",
    "print(type(True))\n",
    "print(type(None))"
   ]
  },
  {
   "cell_type": "markdown",
   "id": "66122286-ae6e-4ee4-be6d-e87333d71a29",
   "metadata": {},
   "source": [
    "OOP memungkinkan kita membuat object kita sendiri, termasuk Methods, dan Atrributesnya<br>\n",
    "kita bisa membuat object object yang berbeda fungsinya dan tjuan akhirnya bisa digabung untuk menjadi sebuh program yang utuh"
   ]
  },
  {
   "cell_type": "markdown",
   "id": "4ad2bc7c-bcc2-41c4-903e-ecdba4e6058d",
   "metadata": {},
   "source": [
    "### Mendefinisikan Class"
   ]
  },
  {
   "cell_type": "code",
   "execution_count": 9,
   "id": "4cdf6fa7-63e3-4ac4-a156-5a057471bc9c",
   "metadata": {},
   "outputs": [],
   "source": [
    "class Contoh:\n",
    "    pass"
   ]
  },
  {
   "cell_type": "code",
   "execution_count": 10,
   "id": "a01078bd-7d7f-4bc6-b978-a76c24706b0d",
   "metadata": {},
   "outputs": [
    {
     "data": {
      "text/plain": [
       "__main__.Contoh"
      ]
     },
     "execution_count": 10,
     "metadata": {},
     "output_type": "execute_result"
    }
   ],
   "source": [
    "me = Contoh()\n",
    "type(me)"
   ]
  },
  {
   "cell_type": "code",
   "execution_count": 30,
   "id": "ba1de8fa-32c7-423c-908c-7ac569d99792",
   "metadata": {},
   "outputs": [],
   "source": [
    "class Karakter:\n",
    "    def __init__(self, name, role):\n",
    "        self.name = name\n",
    "        self.role = role"
   ]
  },
  {
   "cell_type": "code",
   "execution_count": 32,
   "id": "44d96e19-bb99-42b8-813d-fa74b51ffe58",
   "metadata": {},
   "outputs": [
    {
     "data": {
      "text/plain": [
       "'Renaldi Dwi Saputra'"
      ]
     },
     "execution_count": 32,
     "metadata": {},
     "output_type": "execute_result"
    }
   ],
   "source": [
    "karakter_saya = Karakter('Renaldi Dwi Saputra', 'Data Scientist')\n",
    "karakter_saya.name"
   ]
  },
  {
   "cell_type": "code",
   "execution_count": 23,
   "id": "946b0821-0f34-4027-979b-4af8e31cdfa6",
   "metadata": {},
   "outputs": [
    {
     "data": {
      "text/plain": [
       "'Serra'"
      ]
     },
     "execution_count": 23,
     "metadata": {},
     "output_type": "execute_result"
    }
   ],
   "source": [
    "karakter_saya2 = Karakter('Serra', 'The Operator')\n",
    "karakter_saya2.name"
   ]
  },
  {
   "cell_type": "code",
   "execution_count": 68,
   "id": "a9c50d6a-b9ea-40af-93c4-7a5fa83da0d9",
   "metadata": {},
   "outputs": [],
   "source": [
    "class PersonalData:\n",
    "    # class object attributes (attributes ini bersifat global untuk class PersonalData)\n",
    "    kampus = 'Universitas Negeri Malang'\n",
    "    \n",
    "    def __init__(self):\n",
    "        self.name = \"Renaldi Dwi Saputra\"\n",
    "        self.role = \"Data Scientist\"\n",
    "        self.language_spoken = [\"rd_ID\", \"en_US\"]\n",
    "\n",
    "    def say_hai(self):\n",
    "        print('Thanks for dropping by, hope you find some of my work interesting.')\n",
    "\n",
    "    def keterangan(self, tech= 'Python'):\n",
    "        print('Nama saya adalah {}. Saya lulusan S1 dari {} , Saya sedang mencari kerja sebagai {}. Saya bisa 2 bahasa yaitu {} dan mahir dalam bahasa pemrograman {}'.format(self.name, self.kampus, self.role, self.language_spoken, tech))"
   ]
  },
  {
   "cell_type": "code",
   "execution_count": 69,
   "id": "5d9a862d-a070-4bb4-a42d-f0ef95d64757",
   "metadata": {},
   "outputs": [],
   "source": [
    "me = PersonalData()"
   ]
  },
  {
   "cell_type": "code",
   "execution_count": 70,
   "id": "d149fe99-de01-4c58-97da-542650261cdb",
   "metadata": {},
   "outputs": [
    {
     "data": {
      "text/plain": [
       "'Universitas Negeri Malang'"
      ]
     },
     "execution_count": 70,
     "metadata": {},
     "output_type": "execute_result"
    }
   ],
   "source": [
    "PersonalData.kampus"
   ]
  },
  {
   "cell_type": "code",
   "execution_count": 71,
   "id": "fcd5a6df-701d-401f-a947-bc9e19ffc528",
   "metadata": {},
   "outputs": [
    {
     "name": "stdout",
     "output_type": "stream",
     "text": [
      "Thanks for dropping by, hope you find some of my work interesting.\n"
     ]
    }
   ],
   "source": [
    "me.say_hai()"
   ]
  },
  {
   "cell_type": "code",
   "execution_count": 72,
   "id": "a430690e-0b9f-4f2f-8f7e-ed9ea45ace23",
   "metadata": {},
   "outputs": [
    {
     "name": "stdout",
     "output_type": "stream",
     "text": [
      "Nama saya adalah Renaldi Dwi Saputra. Saya lulusan S1 dari Universitas Negeri Malang , Saya sedang mencari kerja sebagai Data Scientist. Saya bisa 2 bahasa yaitu ['rd_ID', 'en_US'] dan mahir dalam bahasa pemrograman Python\n"
     ]
    }
   ],
   "source": [
    "me.keterangan()"
   ]
  },
  {
   "cell_type": "code",
   "execution_count": 73,
   "id": "795d92e5-7aca-449d-a64d-a89334876838",
   "metadata": {},
   "outputs": [
    {
     "name": "stdout",
     "output_type": "stream",
     "text": [
      "Nama saya adalah Renaldi Dwi Saputra. Saya lulusan S1 dari Universitas Negeri Malang , Saya sedang mencari kerja sebagai Data Scientist. Saya bisa 2 bahasa yaitu ['rd_ID', 'en_US'] dan mahir dalam bahasa pemrograman SQL\n"
     ]
    }
   ],
   "source": [
    "me.keterangan('SQL')"
   ]
  },
  {
   "cell_type": "markdown",
   "id": "8e97efcc-1d79-4fcf-bf0c-be7662965330",
   "metadata": {},
   "source": [
    "#### Program Matematika"
   ]
  },
  {
   "cell_type": "code",
   "execution_count": 132,
   "id": "2a41b884-5e77-415a-a522-2ead4115021d",
   "metadata": {},
   "outputs": [],
   "source": [
    "class Lingkaran:\n",
    "    # koefisien\n",
    "    phi = 22/7\n",
    "    \n",
    "    def __init__(self, radius):\n",
    "        self.radius = radius\n",
    "        self.luas = 2*self.phi*radius**2\n",
    "        self.keliling = 2*self.phi*radius\n",
    "    \n",
    "    # def keliling(self):\n",
    "    #     return 2*self.phi*self.radius\n",
    "\n",
    "    # def luas(self):\n",
    "    #     return 2*self.phi*self.radius**2"
   ]
  },
  {
   "cell_type": "code",
   "execution_count": 133,
   "id": "fe50fb18-50aa-4bc8-a87a-f4c7b55eee8e",
   "metadata": {},
   "outputs": [],
   "source": [
    "keliling1 = Lingkaran(14)"
   ]
  },
  {
   "cell_type": "code",
   "execution_count": 139,
   "id": "de804929-6625-4401-9a9a-81301cc2e42e",
   "metadata": {},
   "outputs": [
    {
     "data": {
      "text/plain": [
       "88.0"
      ]
     },
     "execution_count": 139,
     "metadata": {},
     "output_type": "execute_result"
    }
   ],
   "source": [
    "keliling1.keliling"
   ]
  },
  {
   "cell_type": "code",
   "execution_count": 140,
   "id": "af8eb0e7-ff5d-4d38-87ae-c84745948232",
   "metadata": {},
   "outputs": [
    {
     "data": {
      "text/plain": [
       "1232.0"
      ]
     },
     "execution_count": 140,
     "metadata": {},
     "output_type": "execute_result"
    }
   ],
   "source": [
    "keliling1.luas"
   ]
  },
  {
   "cell_type": "markdown",
   "id": "9a6fa526-41ae-450a-974a-98318cf4980a",
   "metadata": {},
   "source": [
    "## Inheritance\n",
    "Class induk dan Class turunan"
   ]
  },
  {
   "cell_type": "code",
   "execution_count": 141,
   "id": "56ee84cd-2f33-46d8-a872-1e4f5daf8223",
   "metadata": {},
   "outputs": [],
   "source": [
    "class Mahasiswa:\n",
    "    status = 'mahasiswa'\n",
    "\n",
    "    def __init__(self, name, nim, jurusan):\n",
    "        self.name = name\n",
    "        self.nim = nim \n",
    "        self.jurusan = jurusan\n",
    "\n",
    "    def keterangan(self):\n",
    "        print('Saya {} {} semester 5 jurusan {} dengan nim {}'.format(self.name ,self.status, self.jurusan, self.nim))"
   ]
  },
  {
   "cell_type": "code",
   "execution_count": 156,
   "id": "b6051a49-4638-4d3e-b1ef-62ef2193b242",
   "metadata": {},
   "outputs": [],
   "source": [
    "Serra = Mahasiswa('Serra', 180322,'Fisika')"
   ]
  },
  {
   "cell_type": "code",
   "execution_count": 157,
   "id": "8bc509e7-f4e0-4a39-bbec-e2712320d3c2",
   "metadata": {},
   "outputs": [
    {
     "name": "stdout",
     "output_type": "stream",
     "text": [
      "Saya Serra mahasiswa semester 5 jurusan Fisika dengan nim 180322\n"
     ]
    }
   ],
   "source": [
    "Serra.keterangan()"
   ]
  },
  {
   "cell_type": "code",
   "execution_count": 178,
   "id": "6159c862-2f6b-472d-b26e-7f8d8a18e450",
   "metadata": {},
   "outputs": [],
   "source": [
    "class nilai(Mahasiswa):\n",
    "    \n",
    "    def __init__(self, name, nim, jurusan):\n",
    "        super().__init__(name, nim, jurusan) #Mahasiswa.__init__(name, nim, jurusan) --sama\n",
    "        self.nilai_update = []\n",
    "\n",
    "    def input_nilai(self, baru):\n",
    "        return self.nilai_update.append(baru)"
   ]
  },
  {
   "cell_type": "code",
   "execution_count": 179,
   "id": "13474f6c-8af1-45a8-a6ad-d2095f80a418",
   "metadata": {},
   "outputs": [],
   "source": [
    "Sora = nilai('Sora', 180321, 'Data')"
   ]
  },
  {
   "cell_type": "code",
   "execution_count": 180,
   "id": "60958d72-a761-4e4a-b994-9c6f6e17a9bc",
   "metadata": {},
   "outputs": [
    {
     "name": "stdout",
     "output_type": "stream",
     "text": [
      "Saya Sora mahasiswa semester 5 jurusan Data dengan nim 180321\n"
     ]
    }
   ],
   "source": [
    "Sora.keterangan()"
   ]
  },
  {
   "cell_type": "code",
   "execution_count": 181,
   "id": "5e8eb10a-1eee-426d-b93a-1f57beed113b",
   "metadata": {},
   "outputs": [],
   "source": [
    "Sora.input_nilai(80)"
   ]
  },
  {
   "cell_type": "code",
   "execution_count": 182,
   "id": "749b60c2-d52a-4398-a6b4-79e0731c8456",
   "metadata": {},
   "outputs": [
    {
     "data": {
      "text/plain": [
       "[80]"
      ]
     },
     "execution_count": 182,
     "metadata": {},
     "output_type": "execute_result"
    }
   ],
   "source": [
    "Sora.nilai_update"
   ]
  },
  {
   "cell_type": "code",
   "execution_count": null,
   "id": "fec7ffaa-9193-477c-af48-904c75bb5070",
   "metadata": {},
   "outputs": [],
   "source": []
  }
 ],
 "metadata": {
  "kernelspec": {
   "display_name": "Python 3 (ipykernel)",
   "language": "python",
   "name": "python3"
  },
  "language_info": {
   "codemirror_mode": {
    "name": "ipython",
    "version": 3
   },
   "file_extension": ".py",
   "mimetype": "text/x-python",
   "name": "python",
   "nbconvert_exporter": "python",
   "pygments_lexer": "ipython3",
   "version": "3.12.0"
  }
 },
 "nbformat": 4,
 "nbformat_minor": 5
}
