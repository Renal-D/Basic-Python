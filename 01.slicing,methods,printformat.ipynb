{
 "cells": [
  {
   "cell_type": "code",
   "execution_count": 7,
   "id": "1b449ccb-d3fb-4598-9042-3fad4491fce6",
   "metadata": {},
   "outputs": [
    {
     "data": {
      "text/plain": [
       "6"
      ]
     },
     "execution_count": 7,
     "metadata": {},
     "output_type": "execute_result"
    }
   ],
   "source": [
    "2*3"
   ]
  },
  {
   "cell_type": "code",
   "execution_count": 12,
   "id": "d2ba2f36-0e4d-402e-a031-0e2cd43cb00e",
   "metadata": {},
   "outputs": [
    {
     "data": {
      "text/plain": [
       "float"
      ]
     },
     "execution_count": 12,
     "metadata": {},
     "output_type": "execute_result"
    }
   ],
   "source": [
    "bil1 = 3.9\n",
    "type(bil1)"
   ]
  },
  {
   "cell_type": "markdown",
   "id": "843b9c95-35fb-4b1a-9f69-c488df031f7f",
   "metadata": {},
   "source": [
    "### MODULUS(%)"
   ]
  },
  {
   "cell_type": "code",
   "execution_count": 14,
   "id": "87389420-52ec-469f-a2cc-7c5027abcd3f",
   "metadata": {},
   "outputs": [
    {
     "data": {
      "text/plain": [
       "float"
      ]
     },
     "execution_count": 14,
     "metadata": {},
     "output_type": "execute_result"
    }
   ],
   "source": [
    "6/2\n",
    "type(6/2)"
   ]
  },
  {
   "cell_type": "code",
   "execution_count": 17,
   "id": "523a7e99-97bd-48f9-8d49-b76d410b4169",
   "metadata": {},
   "outputs": [
    {
     "data": {
      "text/plain": [
       "2"
      ]
     },
     "execution_count": 17,
     "metadata": {},
     "output_type": "execute_result"
    }
   ],
   "source": [
    "6%2\n",
    "6%4"
   ]
  },
  {
   "cell_type": "markdown",
   "id": "84760e83-533c-410a-af42-b284cff9fd40",
   "metadata": {},
   "source": [
    "### PANGKAT(**)"
   ]
  },
  {
   "cell_type": "code",
   "execution_count": 18,
   "id": "b155843a-de9b-4b36-952b-c0cf9bf47970",
   "metadata": {},
   "outputs": [
    {
     "data": {
      "text/plain": [
       "4"
      ]
     },
     "execution_count": 18,
     "metadata": {},
     "output_type": "execute_result"
    }
   ],
   "source": [
    "2**2"
   ]
  },
  {
   "cell_type": "code",
   "execution_count": 19,
   "id": "d64ebb4d-ceef-434b-980a-1d9c6dc22ae9",
   "metadata": {},
   "outputs": [
    {
     "data": {
      "text/plain": [
       "256"
      ]
     },
     "execution_count": 19,
     "metadata": {},
     "output_type": "execute_result"
    }
   ],
   "source": [
    "2**8"
   ]
  },
  {
   "cell_type": "code",
   "execution_count": 20,
   "id": "b81b850c-f15d-4d06-a3d4-ffcbd40fa7ef",
   "metadata": {},
   "outputs": [
    {
     "data": {
      "text/plain": [
       "642"
      ]
     },
     "execution_count": 20,
     "metadata": {},
     "output_type": "execute_result"
    }
   ],
   "source": [
    "2+10*8**2"
   ]
  },
  {
   "cell_type": "code",
   "execution_count": 21,
   "id": "46a2697f-6808-42d3-98ae-76eb19d5fc04",
   "metadata": {},
   "outputs": [
    {
     "data": {
      "text/plain": [
       "90"
      ]
     },
     "execution_count": 21,
     "metadata": {},
     "output_type": "execute_result"
    }
   ],
   "source": [
    "(2+8)*8+(8+2)"
   ]
  },
  {
   "cell_type": "markdown",
   "id": "efa021c6-985e-494a-b140-3ba19a075a4c",
   "metadata": {},
   "source": [
    "### INDEXING & SLICING"
   ]
  },
  {
   "cell_type": "code",
   "execution_count": 22,
   "id": "67d0f383-0f1d-4d48-aa38-0ea20228bc74",
   "metadata": {},
   "outputs": [],
   "source": [
    "a = 3\n",
    "item_saya = 20"
   ]
  },
  {
   "cell_type": "code",
   "execution_count": 24,
   "id": "98f4dad8-1572-4d81-b7b1-f6416d168bc8",
   "metadata": {},
   "outputs": [
    {
     "name": "stdout",
     "output_type": "stream",
     "text": [
      "['ikan', 'ayam', 'bebek']\n"
     ]
    }
   ],
   "source": [
    "item_saya = ['ikan', 'ayam', 'bebek']\n",
    "print(item_saya)"
   ]
  },
  {
   "cell_type": "code",
   "execution_count": 26,
   "id": "58967573-0083-4e1e-9f48-6e07e0772f55",
   "metadata": {},
   "outputs": [
    {
     "data": {
      "text/plain": [
       "'bebek'"
      ]
     },
     "execution_count": 26,
     "metadata": {},
     "output_type": "execute_result"
    }
   ],
   "source": [
    "item_saya[2]"
   ]
  },
  {
   "cell_type": "code",
   "execution_count": 27,
   "id": "b66074c6-523b-40cb-8b85-e8d7df3e7c19",
   "metadata": {},
   "outputs": [
    {
     "name": "stdout",
     "output_type": "stream",
     "text": [
      "Assalamu'alaikum\n"
     ]
    }
   ],
   "source": [
    "coba = \"Assalamu'alaikum\"\n",
    "print(coba)"
   ]
  },
  {
   "cell_type": "code",
   "execution_count": 28,
   "id": "ac1214a6-9209-4640-90cd-6d66d22dd9e2",
   "metadata": {},
   "outputs": [
    {
     "data": {
      "text/plain": [
       "\"Let's do it\""
      ]
     },
     "execution_count": 28,
     "metadata": {},
     "output_type": "execute_result"
    }
   ],
   "source": [
    "\"Let's do it\""
   ]
  },
  {
   "cell_type": "markdown",
   "id": "62cc0ab1-c4e0-4e57-9543-f9df786291d8",
   "metadata": {},
   "source": [
    "Slicing #aturan [awal:akhir:jarak]"
   ]
  },
  {
   "cell_type": "code",
   "execution_count": 29,
   "id": "c16ec54b-fd53-43b6-a192-149aee600637",
   "metadata": {},
   "outputs": [
    {
     "data": {
      "text/plain": [
       "'t'"
      ]
     },
     "execution_count": 29,
     "metadata": {},
     "output_type": "execute_result"
    }
   ],
   "source": [
    "\"Let's do it\"[2]"
   ]
  },
  {
   "cell_type": "code",
   "execution_count": 33,
   "id": "ad9c346e-6577-4cc9-afd7-9ac37e59aee5",
   "metadata": {},
   "outputs": [
    {
     "data": {
      "text/plain": [
       "\"e' oi\""
      ]
     },
     "execution_count": 33,
     "metadata": {},
     "output_type": "execute_result"
    }
   ],
   "source": [
    "\"Let's do it\"[1:-1:2]"
   ]
  },
  {
   "cell_type": "code",
   "execution_count": 34,
   "id": "a730a251-4dc6-43e1-8c71-31f8e0706c94",
   "metadata": {},
   "outputs": [
    {
     "data": {
      "text/plain": [
       "\"ti od s'teL\""
      ]
     },
     "execution_count": 34,
     "metadata": {},
     "output_type": "execute_result"
    }
   ],
   "source": [
    "\"Let's do it\"[::-1]"
   ]
  },
  {
   "cell_type": "code",
   "execution_count": 35,
   "id": "feab619b-37a7-47f9-92e6-6205d8784533",
   "metadata": {},
   "outputs": [
    {
     "name": "stdout",
     "output_type": "stream",
     "text": [
      "[1, 2, 3, 4, 5, 6, 7, 8, 9, 10]\n"
     ]
    }
   ],
   "source": [
    "item = [1,2,3,4,5,6,7,8,9,10]\n",
    "print(item)"
   ]
  },
  {
   "cell_type": "code",
   "execution_count": 36,
   "id": "62b43251-d1f7-4cba-b9e2-4f8b44c2b05e",
   "metadata": {},
   "outputs": [
    {
     "data": {
      "text/plain": [
       "[4, 7, 10]"
      ]
     },
     "execution_count": 36,
     "metadata": {},
     "output_type": "execute_result"
    }
   ],
   "source": [
    "item[3::3]"
   ]
  },
  {
   "cell_type": "markdown",
   "id": "4fc2cb6b-ce70-4be1-8829-a6a149f69c67",
   "metadata": {},
   "source": [
    "#### Strings tdk bisa diubah isi data"
   ]
  },
  {
   "cell_type": "code",
   "execution_count": 39,
   "id": "302f313a-effc-43a4-8af5-e6c68dd38657",
   "metadata": {},
   "outputs": [
    {
     "data": {
      "text/plain": [
       "[1, 200, 3, 4]"
      ]
     },
     "execution_count": 39,
     "metadata": {},
     "output_type": "execute_result"
    }
   ],
   "source": [
    "var1 = [1,2,3,4]\n",
    "var1[1] = 200\n",
    "var1"
   ]
  },
  {
   "cell_type": "code",
   "execution_count": 41,
   "id": "56640e30-dc9c-4ada-80a4-9240ab237f7f",
   "metadata": {},
   "outputs": [
    {
     "data": {
      "text/plain": [
       "['joko', 'joko']"
      ]
     },
     "execution_count": 41,
     "metadata": {},
     "output_type": "execute_result"
    }
   ],
   "source": [
    "nama1 = ['bambang', 'joko']\n",
    "nama1[0] = 'joko'\n",
    "nama1"
   ]
  },
  {
   "cell_type": "code",
   "execution_count": 44,
   "id": "85bf7f94-ee26-42c6-95a8-9872f3d143e6",
   "metadata": {},
   "outputs": [
    {
     "ename": "TypeError",
     "evalue": "'str' object does not support item assignment",
     "output_type": "error",
     "traceback": [
      "\u001b[1;31m---------------------------------------------------------------------------\u001b[0m",
      "\u001b[1;31mTypeError\u001b[0m                                 Traceback (most recent call last)",
      "Cell \u001b[1;32mIn[44], line 3\u001b[0m\n\u001b[0;32m      1\u001b[0m nama1 \u001b[38;5;241m=\u001b[39m \u001b[38;5;124m'\u001b[39m\u001b[38;5;124mBambang\u001b[39m\u001b[38;5;124m'\u001b[39m\n\u001b[0;32m      2\u001b[0m nama1[:\u001b[38;5;241m3\u001b[39m]\n\u001b[1;32m----> 3\u001b[0m \u001b[43mnama1\u001b[49m\u001b[43m[\u001b[49m\u001b[38;5;241;43m2\u001b[39;49m\u001b[43m]\u001b[49m \u001b[38;5;241m=\u001b[39m \u001b[38;5;124m'\u001b[39m\u001b[38;5;124mk\u001b[39m\u001b[38;5;124m'\u001b[39m\n",
      "\u001b[1;31mTypeError\u001b[0m: 'str' object does not support item assignment"
     ]
    }
   ],
   "source": [
    "nama1 = 'Bambang'\n",
    "nama1[:3]\n",
    "nama1[2] = 'k'"
   ]
  },
  {
   "cell_type": "code",
   "execution_count": 46,
   "id": "8db8d986-25ef-44cd-b65b-4d5bf5e675a1",
   "metadata": {},
   "outputs": [
    {
     "data": {
      "text/plain": [
       "'Bambang Narendra'"
      ]
     },
     "execution_count": 46,
     "metadata": {},
     "output_type": "execute_result"
    }
   ],
   "source": [
    "nama1 +' Narendra'"
   ]
  },
  {
   "cell_type": "code",
   "execution_count": 48,
   "id": "99b1065d-55ea-449d-bac3-a08991b60fd7",
   "metadata": {},
   "outputs": [
    {
     "name": "stdout",
     "output_type": "stream",
     "text": [
      "Bambang Suyono\n"
     ]
    }
   ],
   "source": [
    "nama_lengkap = nama1 + ' Suyono'\n",
    "print(nama_lengkap)"
   ]
  },
  {
   "cell_type": "code",
   "execution_count": 49,
   "id": "5ba4663f-366d-4f23-bdf8-e876513e627a",
   "metadata": {},
   "outputs": [
    {
     "data": {
      "text/plain": [
       "'BambangBambang'"
      ]
     },
     "execution_count": 49,
     "metadata": {},
     "output_type": "execute_result"
    }
   ],
   "source": [
    "nama1*2"
   ]
  },
  {
   "cell_type": "code",
   "execution_count": 63,
   "id": "022a2e7f-383a-4460-8c2a-cda9f19d1eee",
   "metadata": {},
   "outputs": [
    {
     "data": {
      "text/plain": [
       "'Bambang Sedang bermain game competitive Sedang bermain game competitive Sedang bermain game competitive Sedang bermain game competitive Sedang bermain game competitive Sedang bermain game competitive Sedang bermain game competitive Sedang bermain game competitive Sedang bermain game competitive Sedang bermain game competitive Sedang bermain game competitive Sedang bermain game competitive'"
      ]
     },
     "execution_count": 63,
     "metadata": {},
     "output_type": "execute_result"
    }
   ],
   "source": [
    "nama1+ ' Sedang bermain game competitive'"
   ]
  },
  {
   "cell_type": "markdown",
   "id": "8e71fdb0-49a5-445d-bdc0-6d25224137d9",
   "metadata": {},
   "source": [
    "### METHODS di PYTHON"
   ]
  },
  {
   "cell_type": "code",
   "execution_count": 59,
   "id": "925120f1-c979-47e5-9d5b-21d750821aea",
   "metadata": {},
   "outputs": [
    {
     "data": {
      "text/plain": [
       "'VALORANT MEMILIKI BEBERAPA AGENT META'"
      ]
     },
     "execution_count": 59,
     "metadata": {},
     "output_type": "execute_result"
    }
   ],
   "source": [
    "var1 = 'Valorant memiliki beberapa agent meta'\n",
    "var1.upper()"
   ]
  },
  {
   "cell_type": "code",
   "execution_count": 60,
   "id": "bb6d6a26-f678-4e6f-ba85-f9b933c725c5",
   "metadata": {},
   "outputs": [],
   "source": [
    "var1 = var1.upper()"
   ]
  },
  {
   "cell_type": "code",
   "execution_count": 61,
   "id": "ef612516-5ea6-42f5-960c-351367970c5f",
   "metadata": {},
   "outputs": [
    {
     "data": {
      "text/plain": [
       "'VALORANT MEMILIKI BEBERAPA AGENT META'"
      ]
     },
     "execution_count": 61,
     "metadata": {},
     "output_type": "execute_result"
    }
   ],
   "source": [
    "var1"
   ]
  },
  {
   "cell_type": "code",
   "execution_count": 64,
   "id": "c4f3c553-f55d-4ab1-8cdf-c89240b86e52",
   "metadata": {},
   "outputs": [
    {
     "data": {
      "text/plain": [
       "['VALORANT', 'MEMILIKI', 'BEBERAPA', 'AGENT', 'META']"
      ]
     },
     "execution_count": 64,
     "metadata": {},
     "output_type": "execute_result"
    }
   ],
   "source": [
    "var1.split()"
   ]
  },
  {
   "cell_type": "markdown",
   "id": "76704f8c-ebe5-43ff-b74b-0f8f458fa553",
   "metadata": {},
   "source": [
    "NLP = Natural Language Processing"
   ]
  },
  {
   "cell_type": "code",
   "execution_count": 67,
   "id": "d10f319f-edfd-4e26-998d-b6dd5d455811",
   "metadata": {},
   "outputs": [
    {
     "data": {
      "text/plain": [
       "['VALORANT ', 'E', 'ILIKI BEBERAPA AGENT ', 'ETA']"
      ]
     },
     "execution_count": 67,
     "metadata": {},
     "output_type": "execute_result"
    }
   ],
   "source": [
    "var1.split('M')"
   ]
  },
  {
   "cell_type": "markdown",
   "id": "7f8e57c6-4ae6-4620-9191-2002987c8b2f",
   "metadata": {},
   "source": [
    "### PRINT METHODS & FORMAT di PYTHON"
   ]
  },
  {
   "cell_type": "code",
   "execution_count": 68,
   "id": "9c0ed206-0eb8-4739-b841-009df644b40f",
   "metadata": {},
   "outputs": [
    {
     "name": "stdout",
     "output_type": "stream",
     "text": [
      "Valorant memiliki beberapa agent meta\n"
     ]
    }
   ],
   "source": [
    "var1 = 'Valorant memiliki beberapa agent meta'\n",
    "print(var1)"
   ]
  },
  {
   "cell_type": "code",
   "execution_count": 71,
   "id": "9970e2d9-9ccd-4727-aaf8-4bc51398240c",
   "metadata": {},
   "outputs": [
    {
     "name": "stdout",
     "output_type": "stream",
     "text": [
      "ini ada 10 game\n"
     ]
    }
   ],
   "source": [
    "print('ini ada {} game'.format('10'))"
   ]
  },
  {
   "cell_type": "code",
   "execution_count": 73,
   "id": "064ddef7-457f-4b45-931a-db21fb8a2373",
   "metadata": {},
   "outputs": [
    {
     "name": "stdout",
     "output_type": "stream",
     "text": [
      "Valorant memiliki beberapa agent meta, Sage Raze Jett\n"
     ]
    }
   ],
   "source": [
    "print('Valorant memiliki beberapa agent meta, {} {} {}'.format('Sage', 'Raze', 'Jett'))"
   ]
  },
  {
   "cell_type": "code",
   "execution_count": 74,
   "id": "a8bddbab-3779-45d3-8e21-bd998c96a8e3",
   "metadata": {},
   "outputs": [],
   "source": [
    "phi = 22/7"
   ]
  },
  {
   "cell_type": "code",
   "execution_count": 75,
   "id": "cbd24f28-cf7b-4ab2-ba36-30baab87e18a",
   "metadata": {},
   "outputs": [
    {
     "data": {
      "text/plain": [
       "3.142857142857143"
      ]
     },
     "execution_count": 75,
     "metadata": {},
     "output_type": "execute_result"
    }
   ],
   "source": [
    "phi"
   ]
  },
  {
   "cell_type": "code",
   "execution_count": 77,
   "id": "e511d7b0-9bc3-43be-86ba-0c18efad0bef",
   "metadata": {},
   "outputs": [
    {
     "name": "stdout",
     "output_type": "stream",
     "text": [
      "untuk menghitung luas lingkaran,gunakanlah 3.142857142857143\n"
     ]
    }
   ],
   "source": [
    "print(\"untuk menghitung luas lingkaran,gunakanlah {}\".format(phi))"
   ]
  },
  {
   "cell_type": "code",
   "execution_count": 78,
   "id": "b7be10f1-3cbc-4ca6-81c5-9b48d3a98ccb",
   "metadata": {},
   "outputs": [],
   "source": [
    "luas1 = 500\n",
    "luas2 = 700"
   ]
  },
  {
   "cell_type": "markdown",
   "id": "b5d3358b-b3a9-49a3-a2f9-041fc73a36e0",
   "metadata": {},
   "source": [
    "method print {nilai:lebar.tingkat_presisi f}"
   ]
  },
  {
   "cell_type": "code",
   "execution_count": 81,
   "id": "8b7e00da-4568-4b9d-a614-b25458a8034e",
   "metadata": {},
   "outputs": [
    {
     "name": "stdout",
     "output_type": "stream",
     "text": [
      "luas tanah yang dimiliki andi adalah  500.000 700.0000\n"
     ]
    }
   ],
   "source": [
    "print('luas tanah yang dimiliki andi adalah {a:8.3f} {b:4.4f}'.format(a=luas1,b=luas2))"
   ]
  },
  {
   "cell_type": "code",
   "execution_count": null,
   "id": "9154fb55-aa5a-4351-b1a9-f382a357a920",
   "metadata": {},
   "outputs": [],
   "source": []
  }
 ],
 "metadata": {
  "kernelspec": {
   "display_name": "Python 3 (ipykernel)",
   "language": "python",
   "name": "python3"
  },
  "language_info": {
   "codemirror_mode": {
    "name": "ipython",
    "version": 3
   },
   "file_extension": ".py",
   "mimetype": "text/x-python",
   "name": "python",
   "nbconvert_exporter": "python",
   "pygments_lexer": "ipython3",
   "version": "3.11.2"
  }
 },
 "nbformat": 4,
 "nbformat_minor": 5
}
