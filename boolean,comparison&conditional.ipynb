{
 "cells": [
  {
   "cell_type": "markdown",
   "id": "5ddd231c-d562-47b1-b370-5b1f67c50293",
   "metadata": {},
   "source": [
    "## Boolean (True and False)"
   ]
  },
  {
   "cell_type": "code",
   "execution_count": 1,
   "id": "81dd40a4-04de-4866-a424-86eb9f1c39de",
   "metadata": {},
   "outputs": [
    {
     "data": {
      "text/plain": [
       "True"
      ]
     },
     "execution_count": 1,
     "metadata": {},
     "output_type": "execute_result"
    }
   ],
   "source": [
    "True"
   ]
  },
  {
   "cell_type": "code",
   "execution_count": 2,
   "id": "9b333962-56cf-4c79-8ac1-4edc400cf406",
   "metadata": {},
   "outputs": [
    {
     "data": {
      "text/plain": [
       "False"
      ]
     },
     "execution_count": 2,
     "metadata": {},
     "output_type": "execute_result"
    }
   ],
   "source": [
    "False"
   ]
  },
  {
   "cell_type": "code",
   "execution_count": 4,
   "id": "65ee1531-387f-4975-9e6a-546374d7417d",
   "metadata": {},
   "outputs": [
    {
     "data": {
      "text/plain": [
       "bool"
      ]
     },
     "execution_count": 4,
     "metadata": {},
     "output_type": "execute_result"
    }
   ],
   "source": [
    "type(True)"
   ]
  },
  {
   "cell_type": "markdown",
   "id": "09fc9ec8-4623-4593-8a00-652009684945",
   "metadata": {},
   "source": [
    "## Comparison"
   ]
  },
  {
   "cell_type": "markdown",
   "id": "3b4fd3a3-b9ce-497e-b91e-c69d731dea4a",
   "metadata": {},
   "source": [
    "1. == sama dengan\n",
    "2. != tidak sama dengan\n",
    "3. |> lebih besar\n",
    "4. < lebih kecil\n",
    "5. |>= lebih besar sama dengan\n",
    "6. <= lebih kecil sama dengan"
   ]
  },
  {
   "cell_type": "code",
   "execution_count": 6,
   "id": "d26c8c2d-4d5a-4cec-9bf2-3600c9a45366",
   "metadata": {},
   "outputs": [
    {
     "name": "stdout",
     "output_type": "stream",
     "text": [
      "35\n"
     ]
    }
   ],
   "source": [
    "a = 35\n",
    "print(a)"
   ]
  },
  {
   "cell_type": "code",
   "execution_count": 8,
   "id": "3ea65da4-e99c-4b39-aec8-0d9f5feaa832",
   "metadata": {},
   "outputs": [
    {
     "data": {
      "text/plain": [
       "False"
      ]
     },
     "execution_count": 8,
     "metadata": {},
     "output_type": "execute_result"
    }
   ],
   "source": [
    "'a' != 'a'"
   ]
  },
  {
   "cell_type": "code",
   "execution_count": 12,
   "id": "25bee623-e3b0-4300-9fbc-b0871813c7b9",
   "metadata": {},
   "outputs": [
    {
     "data": {
      "text/plain": [
       "True"
      ]
     },
     "execution_count": 12,
     "metadata": {},
     "output_type": "execute_result"
    }
   ],
   "source": [
    "25 <= 25"
   ]
  },
  {
   "cell_type": "markdown",
   "id": "0641ea20-0bed-49e2-82a4-3f0e59b6803d",
   "metadata": {},
   "source": [
    "## Comparison Operations Berantai"
   ]
  },
  {
   "cell_type": "markdown",
   "id": "7a07301b-3a36-4f02-a4a7-4cedc8538736",
   "metadata": {},
   "source": [
    "3 argumen yang digunakan \n",
    "1. and || dua kondisi harus True untuk menghasilkan True\n",
    "2. or || salah satu kondisi True untuk menghasilkan True\n",
    "3. not || memberikan dua boolean yang berlawanan"
   ]
  },
  {
   "cell_type": "code",
   "execution_count": 18,
   "id": "b4abb4ff-da4a-4ab5-869d-891bb5c012cb",
   "metadata": {},
   "outputs": [
    {
     "data": {
      "text/plain": [
       "False"
      ]
     },
     "execution_count": 18,
     "metadata": {},
     "output_type": "execute_result"
    }
   ],
   "source": [
    "3>4 and 6>5"
   ]
  },
  {
   "cell_type": "code",
   "execution_count": 17,
   "id": "9d5b288d-818e-4b9f-8975-91768e25180c",
   "metadata": {},
   "outputs": [
    {
     "data": {
      "text/plain": [
       "True"
      ]
     },
     "execution_count": 17,
     "metadata": {},
     "output_type": "execute_result"
    }
   ],
   "source": [
    "7>4 or 4>5"
   ]
  },
  {
   "cell_type": "code",
   "execution_count": 19,
   "id": "19f70a39-a8db-484f-a72a-ca8273b531a6",
   "metadata": {},
   "outputs": [
    {
     "data": {
      "text/plain": [
       "False"
      ]
     },
     "execution_count": 19,
     "metadata": {},
     "output_type": "execute_result"
    }
   ],
   "source": [
    "not True"
   ]
  },
  {
   "cell_type": "code",
   "execution_count": 21,
   "id": "6ae34dda-cb18-4827-8a8c-a01d638f8865",
   "metadata": {},
   "outputs": [
    {
     "data": {
      "text/plain": [
       "False"
      ]
     },
     "execution_count": 21,
     "metadata": {},
     "output_type": "execute_result"
    }
   ],
   "source": [
    "not(7>4 or 4>5)"
   ]
  },
  {
   "cell_type": "markdown",
   "id": "4da4035c-a41a-4ffe-b47e-52d7a821c014",
   "metadata": {},
   "source": [
    "### Conditional"
   ]
  },
  {
   "cell_type": "markdown",
   "id": "12c3b4a9-5a82-4f95-85e2-6d40575796a1",
   "metadata": {},
   "source": [
    "if....:\n",
    "elif.....:\n",
    "else.....:"
   ]
  },
  {
   "cell_type": "code",
   "execution_count": 24,
   "id": "e9754ddd-91cc-4334-b160-f5ea886dd738",
   "metadata": {},
   "outputs": [
    {
     "name": "stdout",
     "output_type": "stream",
     "text": [
      "berhasil\n"
     ]
    }
   ],
   "source": [
    "if (3>2):\n",
    "    print ('berhasil')    "
   ]
  },
  {
   "cell_type": "code",
   "execution_count": 25,
   "id": "3600ce55-3407-4366-9aaa-b732882afc4c",
   "metadata": {},
   "outputs": [
    {
     "name": "stdout",
     "output_type": "stream",
     "text": [
      "berhasil\n"
     ]
    }
   ],
   "source": [
    "if not(1>2):\n",
    "    print ('berhasil')    "
   ]
  },
  {
   "cell_type": "code",
   "execution_count": 26,
   "id": "0f329033-ae34-4fe6-bd9f-94909a6b5c2a",
   "metadata": {},
   "outputs": [
    {
     "name": "stdout",
     "output_type": "stream",
     "text": [
      "tidak berhasil\n"
     ]
    }
   ],
   "source": [
    "if (1>2):\n",
    "    print ('berhasil')    \n",
    "else:\n",
    "    print ('tidak berhasil')\n",
    "        "
   ]
  },
  {
   "cell_type": "code",
   "execution_count": 29,
   "id": "1284ccb6-3cad-451c-adcf-32870ddc2637",
   "metadata": {},
   "outputs": [
    {
     "name": "stdout",
     "output_type": "stream",
     "text": [
      "berhasil\n"
     ]
    }
   ],
   "source": [
    "if not False:\n",
    "    print('berhasil')\n",
    "else: \n",
    "    print ('tidak berhasil')"
   ]
  },
  {
   "cell_type": "code",
   "execution_count": 40,
   "id": "48a17a8b-bc8c-49bd-91df-0a2f78d134f9",
   "metadata": {},
   "outputs": [],
   "source": [
    "nilai = 0"
   ]
  },
  {
   "cell_type": "code",
   "execution_count": 41,
   "id": "6f6951f7-0ee8-4cc4-ae87-28335d263735",
   "metadata": {},
   "outputs": [
    {
     "name": "stdout",
     "output_type": "stream",
     "text": [
      "kocak\n"
     ]
    }
   ],
   "source": [
    "if nilai>80:\n",
    "    print('berhasil')\n",
    "elif 0<=nilai<=50:\n",
    "    print('kocak')\n",
    "else:\n",
    "    print ('beban')"
   ]
  },
  {
   "cell_type": "code",
   "execution_count": null,
   "id": "9be13bb4-b807-434e-aaee-846083869e1d",
   "metadata": {},
   "outputs": [],
   "source": []
  }
 ],
 "metadata": {
  "kernelspec": {
   "display_name": "Python 3 (ipykernel)",
   "language": "python",
   "name": "python3"
  },
  "language_info": {
   "codemirror_mode": {
    "name": "ipython",
    "version": 3
   },
   "file_extension": ".py",
   "mimetype": "text/x-python",
   "name": "python",
   "nbconvert_exporter": "python",
   "pygments_lexer": "ipython3",
   "version": "3.12.0"
  }
 },
 "nbformat": 4,
 "nbformat_minor": 5
}
