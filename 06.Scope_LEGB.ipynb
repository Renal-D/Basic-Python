{
 "cells": [
  {
   "cell_type": "code",
   "execution_count": 27,
   "id": "d2bc942b-e884-4579-a4f6-7fd35488c7c9",
   "metadata": {},
   "outputs": [
    {
     "name": "stdout",
     "output_type": "stream",
     "text": [
      "100\n"
     ]
    }
   ],
   "source": [
    "a = 100\n",
    "\n",
    "def angka():\n",
    "    a = 10\n",
    "    return a\n",
    "print(a)"
   ]
  },
  {
   "cell_type": "markdown",
   "id": "1060dc51-d683-489c-b9af-9bf8de0e5b2e",
   "metadata": {},
   "source": [
    "## URUTAN EKSEKUSI PYTHON"
   ]
  },
  {
   "cell_type": "markdown",
   "id": "f6acbb37-a6c9-42cd-9bbb-eb28cac32801",
   "metadata": {},
   "source": [
    "~ **L(Local)** = variabel ini bersifat lokal, yang biasanya terdapat di dalam fungsi (def/lambda) tertentu<br>\n",
    "~ **E(Enclosing Function local)** = variabel ini ada di dalam fungsi (def/lambda) dari scope terdalam hingga luar<br>\n",
    "~ **G(Global)** = variabel ini didefinisikan diluar biasanya diawal dan _variabel global tidak bisa dipengaruhi fungsi_<br>\n",
    "~ **B(Built-in)** = variabel bawaan Python seperti list,str,int, upper, dll"
   ]
  },
  {
   "cell_type": "code",
   "execution_count": 64,
   "id": "22c4f1e5-6764-4673-a135-90843130601f",
   "metadata": {},
   "outputs": [],
   "source": [
    "karakter = 'Serra sang GLOBAL'\n",
    "\n",
    "def coba():\n",
    "    karakter = 'Serra sang LOCAL'\n",
    "\n",
    "    def cetak():\n",
    "        karakter = 'tapi saya lebih LOKAL BANGET'\n",
    "        print('Hasilnya adalah ' + karakter)\n",
    "        \n",
    "    cetak()"
   ]
  },
  {
   "cell_type": "code",
   "execution_count": 65,
   "id": "6f261605-b528-448e-815c-5105648d3d19",
   "metadata": {},
   "outputs": [
    {
     "name": "stdout",
     "output_type": "stream",
     "text": [
      "Hasilnya adalah tapi saya lebih LOKAL BANGET\n"
     ]
    }
   ],
   "source": [
    "coba()"
   ]
  },
  {
   "cell_type": "code",
   "execution_count": 79,
   "id": "6ea1e9b4-29f1-4c49-9145-aee9556a82a2",
   "metadata": {},
   "outputs": [],
   "source": [
    "bilangan = 22\n",
    "\n",
    "def tulis(bilangan):\n",
    "    print(f'angka = {bilangan}')\n",
    "    \n",
    "    # mendefinisikan ulang bilangan\n",
    "    bilangan = 11\n",
    "    print(f'hasilnya adalah = {bilangan}')\n",
    "    "
   ]
  },
  {
   "cell_type": "code",
   "execution_count": 80,
   "id": "eb29da85-25cc-492b-b1be-857c2a8c3e25",
   "metadata": {},
   "outputs": [
    {
     "name": "stdout",
     "output_type": "stream",
     "text": [
      "angka = 22\n",
      "hasilnya adalah = 11\n"
     ]
    }
   ],
   "source": [
    "tulis(bilangan)"
   ]
  },
  {
   "cell_type": "code",
   "execution_count": 82,
   "id": "53626ecc-e0aa-486e-a266-f6f907df0fc6",
   "metadata": {},
   "outputs": [
    {
     "name": "stdout",
     "output_type": "stream",
     "text": [
      "22\n"
     ]
    }
   ],
   "source": [
    "print(bilangan) #outputnya variable GLOBAL"
   ]
  },
  {
   "cell_type": "markdown",
   "id": "b50aeab1-dc99-4001-98fe-7387f00bf150",
   "metadata": {},
   "source": [
    "#### mengubah variabel GLOBAL"
   ]
  },
  {
   "cell_type": "code",
   "execution_count": 90,
   "id": "f49b1493-d2f8-4e3a-9a4e-be4e92d5eb02",
   "metadata": {},
   "outputs": [],
   "source": [
    "bila = 22\n",
    "\n",
    "def tulis():\n",
    "    global bila #beresiko \n",
    "    # print(f'angka = {bila}')\n",
    "    \n",
    "    # mendefinisikan ulang bilangan\n",
    "    bila = 'JOKO' \n",
    "    print(f'hasilnya adalah = {bila}')"
   ]
  },
  {
   "cell_type": "code",
   "execution_count": 91,
   "id": "3156e11d-f93f-486e-bcd7-631176609ad6",
   "metadata": {},
   "outputs": [
    {
     "name": "stdout",
     "output_type": "stream",
     "text": [
      "hasilnya adalah = JOKO\n"
     ]
    }
   ],
   "source": [
    "tulis()"
   ]
  },
  {
   "cell_type": "code",
   "execution_count": 92,
   "id": "45554b45-b6ad-4c1e-8741-efb0b6cada74",
   "metadata": {},
   "outputs": [
    {
     "name": "stdout",
     "output_type": "stream",
     "text": [
      "JOKO\n"
     ]
    }
   ],
   "source": [
    "print(bila)"
   ]
  },
  {
   "cell_type": "code",
   "execution_count": 95,
   "id": "728979af-4d72-4f56-bcbe-d93edefd7cf5",
   "metadata": {},
   "outputs": [],
   "source": [
    "bila = 22\n",
    "\n",
    "def tulis(bila): \n",
    "    # print(f'angka = {bila}')\n",
    "    \n",
    "    # mendefinisikan ulang bilangan\n",
    "    bila = 'JOKO' \n",
    "    print(f'hasilnya adalah = {bila}')\n",
    "    return bila"
   ]
  },
  {
   "cell_type": "code",
   "execution_count": 97,
   "id": "debd53ec-d070-4698-99c2-69f3303a0ff7",
   "metadata": {},
   "outputs": [
    {
     "name": "stdout",
     "output_type": "stream",
     "text": [
      "hasilnya adalah = JOKO\n"
     ]
    }
   ],
   "source": [
    "bila = tulis(bila)"
   ]
  },
  {
   "cell_type": "code",
   "execution_count": 98,
   "id": "30cd6401-9c6f-4e92-b8d1-fba4b0877b48",
   "metadata": {},
   "outputs": [
    {
     "name": "stdout",
     "output_type": "stream",
     "text": [
      "JOKO\n"
     ]
    }
   ],
   "source": [
    "print(bila)"
   ]
  },
  {
   "cell_type": "code",
   "execution_count": null,
   "id": "c1469aa6-8683-4f09-86d0-6ef360b86249",
   "metadata": {},
   "outputs": [],
   "source": []
  }
 ],
 "metadata": {
  "kernelspec": {
   "display_name": "Python 3 (ipykernel)",
   "language": "python",
   "name": "python3"
  },
  "language_info": {
   "codemirror_mode": {
    "name": "ipython",
    "version": 3
   },
   "file_extension": ".py",
   "mimetype": "text/x-python",
   "name": "python",
   "nbconvert_exporter": "python",
   "pygments_lexer": "ipython3",
   "version": "3.12.0"
  }
 },
 "nbformat": 4,
 "nbformat_minor": 5
}
